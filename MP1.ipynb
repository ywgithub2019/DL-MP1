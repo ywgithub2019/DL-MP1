{
 "cells": [
  {
   "cell_type": "markdown",
   "metadata": {},
   "source": [
    "# Project: Image Classification and Regression"
   ]
  },
  {
   "cell_type": "code",
   "execution_count": 1,
   "metadata": {
    "scrolled": true
   },
   "outputs": [
    {
     "name": "stderr",
     "output_type": "stream",
     "text": [
      "/anaconda3/lib/python3.6/site-packages/h5py/__init__.py:36: FutureWarning: Conversion of the second argument of issubdtype from `float` to `np.floating` is deprecated. In future, it will be treated as `np.float64 == np.dtype(float).type`.\n",
      "  from ._conv import register_converters as _register_converters\n",
      "Using TensorFlow backend.\n"
     ]
    }
   ],
   "source": [
    "import keras\n",
    "from keras.utils import np_utils\n",
    "import matplotlib.pyplot as plt\n",
    "%matplotlib inline\n",
    "import numpy as np\n",
    "from keras.models import Sequential\n",
    "from keras.utils import to_categorical\n",
    "from keras.layers import Dense, Activation,Dropout,BatchNormalization, Reshape\n",
    "from keras.losses import mean_squared_error\n",
    "from keras.optimizers import SGD\n",
    "from keras.layers import Dense, Convolution2D, Flatten, MaxPooling2D\n",
    "get_ipython().run_line_magic('matplotlib', 'inline')\n",
    "import numpy as np\n",
    "from keras.layers import Input, Dense, Conv2D, MaxPooling2D, UpSampling2D, Activation\n",
    "from keras.models import Model\n",
    "import random\n",
    "\n",
    "\n"
   ]
  },
  {
   "cell_type": "code",
   "execution_count": 2,
   "metadata": {},
   "outputs": [],
   "source": [
    "# On some implementations of matplotlib, you may need to change this value\n",
    "IMAGE_SIZE = 72\n",
    "\n",
    "def generate_a_drawing(figsize, U, V, noise=0.0):\n",
    "    fig = plt.figure(figsize=(figsize,figsize))\n",
    "    ax = plt.subplot(111)\n",
    "    plt.axis('Off')\n",
    "    ax.set_xlim(0,figsize)\n",
    "    ax.set_ylim(0,figsize)\n",
    "    ax.fill(U, V, \"k\")\n",
    "    fig.canvas.draw()\n",
    "    imdata = np.frombuffer(fig.canvas.tostring_rgb(), dtype=np.uint8)[::3].astype(np.float32)\n",
    "    imdata = imdata + noise * np.random.random(imdata.size)\n",
    "    plt.close(fig)\n",
    "    return imdata\n",
    "\n",
    "def generate_a_rectangle(noise=0.0, free_location=False):\n",
    "    figsize = 1.0    \n",
    "    U = np.zeros(4)\n",
    "    V = np.zeros(4)\n",
    "    if free_location:\n",
    "        corners = np.random.random(4)\n",
    "        top = max(corners[0], corners[1])\n",
    "        bottom = min(corners[0], corners[1])\n",
    "        left = min(corners[2], corners[3])\n",
    "        right = max(corners[2], corners[3])\n",
    "    else:\n",
    "        side = (0.3 + 0.7 * np.random.random()) * figsize\n",
    "        top = figsize/2 + side/2\n",
    "        bottom = figsize/2 - side/2\n",
    "        left = bottom\n",
    "        right = top\n",
    "    U[0] = U[1] = top\n",
    "    U[2] = U[3] = bottom\n",
    "    V[0] = V[3] = left\n",
    "    V[1] = V[2] = right\n",
    "    return generate_a_drawing(figsize, U, V, noise)\n",
    "\n",
    "\n",
    "def generate_a_disk(noise=0.0, free_location=False):\n",
    "    figsize = 1.0\n",
    "    if free_location:\n",
    "        center = np.random.random(2)\n",
    "    else:\n",
    "        center = (figsize/2, figsize/2)\n",
    "    radius = (0.3 + 0.7 * np.random.random()) * figsize/2\n",
    "    N = 50\n",
    "    U = np.zeros(N)\n",
    "    V = np.zeros(N)\n",
    "    i = 0\n",
    "    for t in np.linspace(0, 2*np.pi, N):\n",
    "        U[i] = center[0] + np.cos(t) * radius\n",
    "        V[i] = center[1] + np.sin(t) * radius\n",
    "        i = i + 1\n",
    "    return generate_a_drawing(figsize, U, V, noise)\n",
    "\n",
    "def generate_a_triangle(noise=0.0, free_location=False):\n",
    "    figsize = 1.0\n",
    "    if free_location:\n",
    "        U = np.random.random(3)\n",
    "        V = np.random.random(3)\n",
    "    else:\n",
    "        size = (0.3 + 0.7 * np.random.random())*figsize/2\n",
    "        middle = figsize/2\n",
    "        U = (middle, middle+size, middle-size)\n",
    "        V = (middle+size, middle-size, middle-size)\n",
    "    imdata = generate_a_drawing(figsize, U, V, noise)\n",
    "    return [imdata, [U[0], V[0], U[1], V[1], U[2], V[2]]]"
   ]
  },
  {
   "cell_type": "code",
   "execution_count": 3,
   "metadata": {},
   "outputs": [
    {
     "data": {
      "text/plain": [
       "<matplotlib.image.AxesImage at 0xb22d99240>"
      ]
     },
     "execution_count": 3,
     "metadata": {},
     "output_type": "execute_result"
    },
    {
     "data": {
      "image/png": "[encoded data removed]",
      "text/plain": [
       "<Figure size 432x288 with 1 Axes>"
      ]
     },
     "metadata": {},
     "output_type": "display_data"
    }
   ],
   "source": [
    "im = generate_a_rectangle(10, True)\n",
    "plt.imshow(im.reshape(IMAGE_SIZE,IMAGE_SIZE), cmap='gray')\n"
   ]
  },
  {
   "cell_type": "code",
   "execution_count": 4,
   "metadata": {},
   "outputs": [
    {
     "data": {
      "text/plain": [
       "<matplotlib.image.AxesImage at 0xb22f3ff98>"
      ]
     },
     "execution_count": 4,
     "metadata": {},
     "output_type": "execute_result"
    },
    {
     "data": {
      "image/png": "[encoded data removed]",
      "text/plain": [
       "<Figure size 432x288 with 1 Axes>"
      ]
     },
     "metadata": {},
     "output_type": "display_data"
    }
   ],
   "source": [
    "im = generate_a_disk(10)\n",
    "plt.imshow(im.reshape(IMAGE_SIZE,IMAGE_SIZE), cmap='gray')"
   ]
  },
  {
   "cell_type": "code",
   "execution_count": 5,
   "metadata": {},
   "outputs": [
    {
     "data": {
      "text/plain": [
       "<matplotlib.image.AxesImage at 0xb2300fd68>"
      ]
     },
     "execution_count": 5,
     "metadata": {},
     "output_type": "execute_result"
    },
    {
     "data": {
      "image/png": "[encoded data removed]",
      "text/plain": [
       "<Figure size 432x288 with 1 Axes>"
      ]
     },
     "metadata": {},
     "output_type": "display_data"
    }
   ],
   "source": [
    "[im, v] = generate_a_triangle(20, False)\n",
    "plt.imshow(im.reshape(IMAGE_SIZE,IMAGE_SIZE), cmap='gray')\n"
   ]
  },
  {
   "cell_type": "code",
   "execution_count": 6,
   "metadata": {},
   "outputs": [],
   "source": [
    "def generate_dataset_classification(nb_samples, noise=0.0, free_location=False):\n",
    "    # Getting im_size:\n",
    "    im_size = generate_a_rectangle().shape[0]\n",
    "    X = np.zeros([nb_samples,im_size])\n",
    "    Y = np.zeros(nb_samples)\n",
    "    print('Creating data:')\n",
    "    for i in range(nb_samples):\n",
    "        if i % 10 == 0:\n",
    "            print(i)\n",
    "        category = np.random.randint(3)\n",
    "        if category == 0:\n",
    "            X[i] = generate_a_rectangle(noise, free_location)\n",
    "        elif category == 1: \n",
    "            X[i] = generate_a_disk(noise, free_location)\n",
    "        else:\n",
    "            [X[i], V] = generate_a_triangle(noise, free_location)\n",
    "        Y[i] = category\n",
    "    X = (X + noise) / (255 + 2 * noise)\n",
    "    return [X, Y]\n",
    "\n",
    "def generate_test_set_classification():\n",
    "    np.random.seed(42)\n",
    "    [X_test, Y_test] = generate_dataset_classification(300, 20, True)\n",
    "    Y_test = np_utils.to_categorical(Y_test, 3) \n",
    "    return [X_test, Y_test]\n",
    "\n",
    "def generate_dataset_regression(nb_samples, noise=0.0):\n",
    "    # Getting im_size:\n",
    "    im_size = generate_a_triangle()[0].shape[0]\n",
    "    X = np.zeros([nb_samples,im_size])\n",
    "    Y = np.zeros([nb_samples, 6])\n",
    "    print('Creating data:')\n",
    "    for i in range(nb_samples):\n",
    "        if i % 10 == 0:\n",
    "            print(i)\n",
    "        [X[i], Y[i]] = generate_a_triangle(noise, True)\n",
    "    X = (X + noise) / (255 + 2 * noise)\n",
    "    return [X, Y]\n",
    "\n",
    "import matplotlib.patches as patches\n",
    "\n",
    "def visualize_prediction(x, y):\n",
    "    fig, ax = plt.subplots(figsize=(5, 5))\n",
    "    I = x.reshape((IMAGE_SIZE,IMAGE_SIZE))\n",
    "    ax.imshow(I, extent=[-0.15,1.15,-0.15,1.15],cmap='gray')\n",
    "    ax.set_xlim([0,1])\n",
    "    ax.set_ylim([0,1])\n",
    "\n",
    "    xy = y.reshape(3,2)\n",
    "    tri = patches.Polygon(xy, closed=True, fill = False, edgecolor = 'r', linewidth = 5, alpha = 0.5)\n",
    "    ax.add_patch(tri)\n",
    "\n",
    "    plt.show()\n",
    "\n",
    "def generate_test_set_regression():\n",
    "    np.random.seed(42)\n",
    "    [X_test, Y_test] = generate_dataset_regression(300, 20)\n",
    "    return [X_test, Y_test]\n"
   ]
  },
  {
   "cell_type": "markdown",
   "metadata": {},
   "source": [
    "# 3. Simple Classification"
   ]
  },
  {
   "cell_type": "code",
   "execution_count": 114,
   "metadata": {
    "scrolled": true
   },
   "outputs": [
    {
     "name": "stdout",
     "output_type": "stream",
     "text": [
      "Creating data:\n",
      "0\n",
      "10\n",
      "20\n",
      "30\n",
      "40\n",
      "50\n",
      "60\n",
      "70\n",
      "80\n",
      "90\n",
      "100\n",
      "110\n",
      "120\n",
      "130\n",
      "140\n",
      "150\n",
      "160\n",
      "170\n",
      "180\n",
      "190\n",
      "200\n",
      "210\n",
      "220\n",
      "230\n",
      "240\n",
      "250\n",
      "260\n",
      "270\n",
      "280\n",
      "290\n",
      "300\n",
      "310\n",
      "320\n",
      "330\n",
      "340\n",
      "350\n",
      "360\n",
      "370\n",
      "380\n",
      "390\n",
      "400\n",
      "410\n",
      "420\n",
      "430\n",
      "440\n",
      "450\n",
      "460\n",
      "470\n",
      "480\n",
      "490\n",
      "500\n",
      "510\n",
      "520\n",
      "530\n",
      "540\n",
      "550\n",
      "560\n",
      "570\n",
      "580\n",
      "590\n",
      "600\n",
      "610\n",
      "620\n",
      "630\n",
      "640\n",
      "650\n",
      "660\n",
      "670\n",
      "680\n",
      "690\n",
      "700\n",
      "710\n",
      "720\n",
      "730\n",
      "740\n",
      "750\n",
      "760\n",
      "770\n",
      "780\n",
      "790\n",
      "800\n",
      "810\n",
      "820\n",
      "830\n",
      "840\n",
      "850\n",
      "860\n",
      "870\n",
      "880\n",
      "890\n",
      "900\n",
      "910\n",
      "920\n",
      "930\n",
      "940\n",
      "950\n",
      "960\n",
      "970\n",
      "980\n",
      "990\n",
      "1000\n",
      "1010\n",
      "1020\n",
      "1030\n",
      "1040\n",
      "1050\n",
      "1060\n",
      "1070\n",
      "1080\n",
      "1090\n",
      "1100\n",
      "1110\n",
      "1120\n",
      "1130\n",
      "1140\n",
      "1150\n",
      "1160\n",
      "1170\n",
      "1180\n",
      "1190\n",
      "1200\n",
      "1210\n",
      "1220\n",
      "1230\n",
      "1240\n",
      "1250\n",
      "1260\n",
      "1270\n",
      "1280\n",
      "1290\n",
      "1300\n",
      "1310\n",
      "1320\n",
      "1330\n",
      "1340\n",
      "1350\n",
      "1360\n",
      "1370\n",
      "1380\n",
      "1390\n",
      "1400\n",
      "1410\n",
      "1420\n",
      "1430\n",
      "1440\n",
      "1450\n",
      "1460\n",
      "1470\n",
      "1480\n",
      "1490\n",
      "1500\n",
      "1510\n",
      "1520\n",
      "1530\n",
      "1540\n",
      "1550\n",
      "1560\n",
      "1570\n",
      "1580\n",
      "1590\n",
      "1600\n",
      "1610\n",
      "1620\n",
      "1630\n",
      "1640\n",
      "1650\n",
      "1660\n",
      "1670\n",
      "1680\n",
      "1690\n",
      "1700\n",
      "1710\n",
      "1720\n",
      "1730\n",
      "1740\n",
      "1750\n",
      "1760\n",
      "1770\n",
      "1780\n",
      "1790\n",
      "1800\n",
      "1810\n",
      "1820\n",
      "1830\n",
      "1840\n",
      "1850\n",
      "1860\n",
      "1870\n",
      "1880\n",
      "1890\n",
      "1900\n",
      "1910\n",
      "1920\n",
      "1930\n",
      "1940\n",
      "1950\n",
      "1960\n",
      "1970\n",
      "1980\n",
      "1990\n",
      "2000\n",
      "2010\n",
      "2020\n",
      "2030\n",
      "2040\n",
      "2050\n",
      "2060\n",
      "2070\n",
      "2080\n",
      "2090\n",
      "2100\n",
      "2110\n",
      "2120\n",
      "2130\n",
      "2140\n",
      "2150\n",
      "2160\n",
      "2170\n",
      "2180\n",
      "2190\n",
      "2200\n",
      "2210\n",
      "2220\n",
      "2230\n",
      "2240\n",
      "2250\n",
      "2260\n",
      "2270\n",
      "2280\n",
      "2290\n",
      "2300\n",
      "2310\n",
      "2320\n",
      "2330\n",
      "2340\n",
      "2350\n",
      "2360\n",
      "2370\n",
      "2380\n",
      "2390\n",
      "2400\n",
      "2410\n",
      "2420\n",
      "2430\n",
      "2440\n",
      "2450\n",
      "2460\n",
      "2470\n",
      "2480\n",
      "2490\n",
      "2500\n",
      "2510\n",
      "2520\n",
      "2530\n",
      "2540\n",
      "2550\n",
      "2560\n",
      "2570\n",
      "2580\n",
      "2590\n",
      "2600\n",
      "2610\n",
      "2620\n",
      "2630\n",
      "2640\n",
      "2650\n",
      "2660\n",
      "2670\n",
      "2680\n",
      "2690\n",
      "2700\n",
      "2710\n",
      "2720\n",
      "2730\n",
      "2740\n",
      "2750\n",
      "2760\n",
      "2770\n",
      "2780\n",
      "2790\n",
      "2800\n",
      "2810\n",
      "2820\n",
      "2830\n",
      "2840\n",
      "2850\n",
      "2860\n",
      "2870\n",
      "2880\n",
      "2890\n",
      "2900\n",
      "2910\n",
      "2920\n",
      "2930\n",
      "2940\n",
      "2950\n",
      "2960\n",
      "2970\n",
      "2980\n",
      "2990\n",
      "Creating data:\n",
      "0\n",
      "10\n",
      "20\n",
      "30\n",
      "40\n",
      "50\n",
      "60\n",
      "70\n",
      "80\n",
      "90\n",
      "100\n",
      "110\n",
      "120\n",
      "130\n",
      "140\n",
      "150\n",
      "160\n",
      "170\n",
      "180\n",
      "190\n",
      "200\n",
      "210\n",
      "220\n",
      "230\n",
      "240\n",
      "250\n",
      "260\n",
      "270\n",
      "280\n",
      "290\n"
     ]
    }
   ],
   "source": [
    "[X_train_1, Y_train_1] = generate_dataset_classification(3000, 20)\n",
    "[X_test_1, Y_test_1] = generate_test_set_classification()"
   ]
  },
  {
   "cell_type": "code",
   "execution_count": 115,
   "metadata": {
    "scrolled": false
   },
   "outputs": [
    {
     "data": {
      "text/plain": [
       "(3000, 5184)"
      ]
     },
     "execution_count": 115,
     "metadata": {},
     "output_type": "execute_result"
    }
   ],
   "source": [
    "X_train_1.shape\n"
   ]
  },
  {
   "cell_type": "code",
   "execution_count": 116,
   "metadata": {},
   "outputs": [],
   "source": [
    "Y_train_1 = to_categorical(Y_train_1)"
   ]
  },
  {
   "cell_type": "code",
   "execution_count": 117,
   "metadata": {},
   "outputs": [
    {
     "data": {
      "text/plain": [
       "(3000, 3)"
      ]
     },
     "execution_count": 117,
     "metadata": {},
     "output_type": "execute_result"
    }
   ],
   "source": [
    "Y_train_1.shape"
   ]
  },
  {
   "cell_type": "markdown",
   "metadata": {},
   "source": [
    "## 3.1 stochastic gradient descent optimizer"
   ]
  },
  {
   "cell_type": "code",
   "execution_count": 118,
   "metadata": {},
   "outputs": [
    {
     "name": "stdout",
     "output_type": "stream",
     "text": [
      "Train on 2100 samples, validate on 900 samples\n",
      "Epoch 1/5\n",
      "2100/2100 [==============================] - 9s 4ms/step - loss: 0.2896 - acc: 0.8652 - val_loss: 0.0046 - val_acc: 0.9989\n",
      "Epoch 2/5\n",
      "2100/2100 [==============================] - 7s 4ms/step - loss: 0.0378 - acc: 0.9876 - val_loss: 3.7681e-05 - val_acc: 1.0000\n",
      "Epoch 3/5\n",
      "2100/2100 [==============================] - 7s 4ms/step - loss: 0.0299 - acc: 0.9924 - val_loss: 2.7166e-04 - val_acc: 1.0000\n",
      "Epoch 4/5\n",
      "2100/2100 [==============================] - 7s 3ms/step - loss: 0.0022 - acc: 0.9990 - val_loss: 6.6589e-06 - val_acc: 1.0000\n",
      "Epoch 5/5\n",
      "2100/2100 [==============================] - 7s 3ms/step - loss: 0.0031 - acc: 0.9986 - val_loss: 6.2678e-06 - val_acc: 1.0000\n"
     ]
    },
    {
     "data": {
      "text/plain": [
       "<keras.callbacks.History at 0xbd3b58cc0>"
      ]
     },
     "execution_count": 118,
     "metadata": {},
     "output_type": "execute_result"
    }
   ],
   "source": [
    "model_1 = Sequential()\n",
    "model_1.add(BatchNormalization(input_shape=(IMAGE_SIZE**2,)))\n",
    "model_1.add(Dense(1024,input_shape=(5184,)))\n",
    "model_1.add(Activation('relu'))\n",
    "model_1.add(Dropout(0.2))\n",
    "model_1.add(Dense(512,activation='relu'))\n",
    "model_1.add(Dropout(0.2))\n",
    "model_1.add(Dense(512,activation='relu'))\n",
    "model_1.add(Dropout(0.2))\n",
    "model_1.add(Dense(512,activation='relu'))\n",
    "model_1.add(Dropout(0.2))\n",
    "model_1.add(Dense(256,activation='relu'))\n",
    "model_1.add(Dropout(0.2))\n",
    "model_1.add(Dense(3,activation='softmax'))\n",
    "sgd = SGD(lr=0.01,\n",
    "decay=1e-6, momentum=0.9,\n",
    "nesterov=True)\n",
    "model_1.compile(loss='categorical_crossentropy', optimizer=sgd, metrics=['accuracy'])\n",
    "model_1.fit(X_train_1, Y_train_1, epochs=5, batch_size=32,validation_split=0.3)\n"
   ]
  },
  {
   "cell_type": "code",
   "execution_count": 119,
   "metadata": {},
   "outputs": [
    {
     "data": {
      "text/plain": [
       "array([[0., 0., 1.]], dtype=float32)"
      ]
     },
     "execution_count": 119,
     "metadata": {},
     "output_type": "execute_result"
    }
   ],
   "source": [
    "X_test_1_1 = generate_a_rectangle()\n",
    "X_test_1_1= X_test_1_1.reshape(1, X_test_1_1.shape[0])\n",
    "model_1.predict(X_test_1_1)"
   ]
  },
  {
   "cell_type": "code",
   "execution_count": 120,
   "metadata": {
    "scrolled": true
   },
   "outputs": [
    {
     "name": "stdout",
     "output_type": "stream",
     "text": [
      "300/300 [==============================] - 0s 693us/step\n"
     ]
    }
   ],
   "source": [
    "score_1 = model_1.evaluate(X_test_1, Y_test_1)"
   ]
  },
  {
   "cell_type": "code",
   "execution_count": 121,
   "metadata": {},
   "outputs": [
    {
     "name": "stdout",
     "output_type": "stream",
     "text": [
      "Test loss: 6.934629262288412\n",
      "Test accuracy: 0.3466666668653488\n"
     ]
    }
   ],
   "source": [
    "print('Test loss:', score_1[0])\n",
    "print('Test accuracy:', score_1[1])"
   ]
  },
  {
   "cell_type": "markdown",
   "metadata": {},
   "source": [
    "## 3.2 Adam optimizer"
   ]
  },
  {
   "cell_type": "code",
   "execution_count": 150,
   "metadata": {
    "scrolled": true
   },
   "outputs": [
    {
     "name": "stdout",
     "output_type": "stream",
     "text": [
      "Train on 2100 samples, validate on 900 samples\n",
      "Epoch 1/5\n",
      "2100/2100 [==============================] - 14s 7ms/step - loss: 0.2511 - acc: 0.8919 - val_loss: 0.1627 - val_acc: 0.9400\n",
      "Epoch 2/5\n",
      "2100/2100 [==============================] - 10s 5ms/step - loss: 0.1279 - acc: 0.9600 - val_loss: 5.7061e-04 - val_acc: 1.0000\n",
      "Epoch 3/5\n",
      "2100/2100 [==============================] - 10s 5ms/step - loss: 0.0425 - acc: 0.9871 - val_loss: 0.2228 - val_acc: 0.9478\n",
      "Epoch 4/5\n",
      "2100/2100 [==============================] - 11s 5ms/step - loss: 0.0386 - acc: 0.9914 - val_loss: 7.2895e-04 - val_acc: 1.0000\n",
      "Epoch 5/5\n",
      "2100/2100 [==============================] - 9s 4ms/step - loss: 0.0047 - acc: 0.9990 - val_loss: 1.2237e-04 - val_acc: 1.0000\n"
     ]
    },
    {
     "data": {
      "text/plain": [
       "<keras.callbacks.History at 0xbe7181a90>"
      ]
     },
     "execution_count": 150,
     "metadata": {},
     "output_type": "execute_result"
    }
   ],
   "source": [
    "model_2 =Sequential()\n",
    "model_2.add(BatchNormalization(input_shape=(IMAGE_SIZE**2,)))\n",
    "model_2.add(Dense(1024,activation='tanh'))\n",
    "model_2.add(Dropout(0.2))\n",
    "model_2.add(Dense(512,activation='tanh'))\n",
    "model_2.add(Dropout(0.2))\n",
    "model_2.add(Dense(512,activation='tanh'))\n",
    "model_2.add(Dropout(0.2))\n",
    "model_2.add(Dense(512,activation='tanh'))\n",
    "model_2.add(Dropout(0.2))\n",
    "model_2.add(Dense(256,activation='tanh'))\n",
    "model_2.add(Dropout(0.2))\n",
    "model_2.add(Dense(3,activation='softmax'))\n",
    "\n",
    "model_2.compile(loss='categorical_crossentropy', optimizer='adam', metrics=['accuracy'])\n",
    "\n",
    "model_2.fit(X_train_1, Y_train_1, epochs=5, batch_size=32,validation_split=0.3)"
   ]
  },
  {
   "cell_type": "code",
   "execution_count": 151,
   "metadata": {},
   "outputs": [
    {
     "data": {
      "text/plain": [
       "array([[3.4478938e-04, 1.3990643e-07, 9.9965513e-01]], dtype=float32)"
      ]
     },
     "execution_count": 151,
     "metadata": {},
     "output_type": "execute_result"
    }
   ],
   "source": [
    "X_test_1_2 = generate_a_disk()\n",
    "X_test_1_2= X_test_1_2.reshape(1, X_test_1_2.shape[0])\n",
    "model_2.predict(X_test_1_2)"
   ]
  },
  {
   "cell_type": "code",
   "execution_count": 152,
   "metadata": {},
   "outputs": [
    {
     "name": "stdout",
     "output_type": "stream",
     "text": [
      "300/300 [==============================] - 0s 717us/step\n"
     ]
    }
   ],
   "source": [
    "score_2 = model_2.evaluate(X_test_1, Y_test_1)"
   ]
  },
  {
   "cell_type": "code",
   "execution_count": 153,
   "metadata": {},
   "outputs": [
    {
     "name": "stdout",
     "output_type": "stream",
     "text": [
      "Test loss: 7.4925692240397135\n",
      "Test accuracy: 0.39666666587193805\n"
     ]
    }
   ],
   "source": [
    "print('Test loss:', score_2[0])\n",
    "print('Test accuracy:', score_2[1])"
   ]
  },
  {
   "cell_type": "markdown",
   "metadata": {},
   "source": [
    "# 4. Visualization of the Solution\n",
    "We would like to visualize the weights of the linear classifier. Check the output of the function model.get_weights(): The first part corresponds to the matrix of the classifier. Its columns have the same size as the input images, because Keras uses vector-matrix multiplications instead of matrix- vector multiplications.\n",
    "† Visualize the 3 columns as images.\n",
    "Hint: Only two (short) lines of code are required to visualize one column.\n"
   ]
  },
  {
   "cell_type": "code",
   "execution_count": 154,
   "metadata": {
    "scrolled": true
   },
   "outputs": [
    {
     "data": {
      "text/plain": [
       "[array([0.98061067, 1.0012372 , 0.9826198 , ..., 0.99564075, 1.0026138 ,\n",
       "        0.995977  ], dtype=float32),\n",
       " array([-0.00116132, -0.00278902,  0.00759406, ...,  0.00364438,\n",
       "        -0.01221944, -0.01002611], dtype=float32),\n",
       " array([0.9660539 , 0.9658806 , 0.96589065, ..., 0.9668661 , 0.9661951 ,\n",
       "        0.96613884], dtype=float32),\n",
       " array([0.0003746 , 0.00038241, 0.00037611, ..., 0.00038799, 0.00037984,\n",
       "        0.00039107], dtype=float32),\n",
       " array([[ 0.00573435,  0.0137792 ,  0.01250196, ...,  0.01844514,\n",
       "          0.02113938, -0.01050932],\n",
       "        [-0.00088655,  0.01075573,  0.03753874, ...,  0.01914172,\n",
       "          0.01514594,  0.00011212],\n",
       "        [-0.00896223, -0.00292701, -0.01638826, ..., -0.01627011,\n",
       "         -0.01310598,  0.01300451],\n",
       "        ...,\n",
       "        [-0.0126689 ,  0.02290948,  0.00826767, ..., -0.00917999,\n",
       "         -0.01521821,  0.01960913],\n",
       "        [ 0.02291162,  0.01100552, -0.00665879, ..., -0.00047922,\n",
       "         -0.0138392 ,  0.00272148],\n",
       "        [ 0.00415411,  0.03132522, -0.00702435, ...,  0.0026657 ,\n",
       "          0.02692993, -0.02226233]], dtype=float32),\n",
       " array([-0.00651796, -0.01514727, -0.00830055, ..., -0.00781403,\n",
       "        -0.0092542 , -0.00415066], dtype=float32),\n",
       " array([[ 0.04301498, -0.00936769,  0.00229538, ...,  0.03519377,\n",
       "          0.02983153,  0.03738427],\n",
       "        [ 0.03975977,  0.06466354,  0.01056696, ...,  0.00052376,\n",
       "         -0.03126292,  0.03605558],\n",
       "        [-0.06444183, -0.03520657,  0.05177969, ...,  0.03353472,\n",
       "         -0.06518103, -0.0113434 ],\n",
       "        ...,\n",
       "        [ 0.04615154, -0.03067143, -0.0020151 , ...,  0.02848835,\n",
       "          0.06067055, -0.02942972],\n",
       "        [-0.08111858,  0.00959322,  0.00444819, ..., -0.04845031,\n",
       "         -0.05067346,  0.00805087],\n",
       "        [ 0.0395724 ,  0.01149419, -0.05099955, ...,  0.03123355,\n",
       "         -0.05281648,  0.05608672]], dtype=float32),\n",
       " array([-1.09316939e-02, -1.67080481e-02, -2.09787628e-03,  1.82890915e-03,\n",
       "         5.37043717e-03, -2.27297321e-02, -1.39419157e-02,  1.00095756e-02,\n",
       "        -6.05206471e-03,  3.61105637e-03,  3.32371145e-03, -1.72231421e-02,\n",
       "        -2.48761801e-03, -8.79869983e-03, -2.19989731e-03, -1.50349708e-02,\n",
       "         1.44864200e-02, -3.09700193e-03, -4.35915682e-03,  1.99342612e-02,\n",
       "         6.12635026e-03,  1.45339276e-04, -1.80822965e-02,  1.21958079e-02,\n",
       "         1.05963182e-02,  2.20093387e-03, -9.79999546e-03, -4.82036127e-03,\n",
       "         9.77371447e-03,  7.49651750e-04, -4.80018649e-03,  2.29314119e-02,\n",
       "         9.95614659e-03, -8.39651003e-03,  5.32738492e-03, -1.20444326e-02,\n",
       "         1.28067276e-02,  2.40336033e-03, -6.84010377e-03, -1.12585453e-02,\n",
       "         1.04667889e-02,  1.20730698e-02,  2.79042730e-03,  1.92078034e-04,\n",
       "         8.37141462e-03, -1.03322761e-02, -2.03386955e-02,  1.00687016e-02,\n",
       "        -3.93471587e-03,  2.17042435e-02, -1.01330681e-02, -4.71186265e-03,\n",
       "        -4.87044745e-04,  5.06700668e-03,  1.24961836e-02,  1.30807888e-03,\n",
       "         1.08584613e-02,  9.94672626e-03, -1.09698111e-02,  1.77032053e-02,\n",
       "        -9.66149289e-03,  1.46307088e-02,  9.20739258e-04,  6.02536742e-03,\n",
       "         3.05528729e-03,  4.69917059e-03, -3.71726672e-03,  5.86571591e-03,\n",
       "        -8.22487753e-03,  5.81863709e-03, -3.69541603e-03, -8.37728265e-04,\n",
       "         9.02304950e-04,  1.17260655e-02,  5.58440015e-03,  6.38890592e-03,\n",
       "         3.16499663e-03, -2.65008043e-02,  3.81961023e-03, -4.59282892e-03,\n",
       "         7.59222126e-03, -2.06473656e-02, -1.79533008e-02, -1.08654629e-02,\n",
       "        -7.24693935e-04, -1.96281355e-03,  7.88133219e-03,  1.02540189e-02,\n",
       "        -6.16983091e-03, -1.58811957e-02,  1.64918206e-03,  2.46416521e-03,\n",
       "         1.53185846e-02, -1.12115301e-03,  9.46412608e-03,  1.84627157e-02,\n",
       "         1.13653941e-02, -1.23890806e-02, -1.22114997e-02, -1.25630116e-02,\n",
       "        -7.87525997e-03, -1.28918607e-02,  1.06712915e-02, -1.07861012e-02,\n",
       "         7.19855679e-03,  2.38627382e-03, -4.80831368e-03, -1.17965777e-04,\n",
       "         2.02526543e-02, -1.67455934e-02, -3.23075131e-02, -7.02226476e-04,\n",
       "         3.09420773e-03,  1.92885753e-02,  2.54044365e-02,  1.08071482e-02,\n",
       "         1.50221605e-02, -1.26600044e-03,  5.60110575e-03, -5.68892388e-03,\n",
       "         2.04378963e-02,  1.27387224e-02, -2.54161190e-02, -1.44493729e-02,\n",
       "         4.63123852e-03,  6.21265313e-03,  1.38956783e-02, -7.14814151e-03,\n",
       "         8.99202749e-03,  2.77478644e-03, -1.00119435e-03,  3.56649724e-03,\n",
       "         6.05972856e-03,  1.04877697e-02, -1.87989566e-02,  1.60148181e-02,\n",
       "         1.48368170e-02, -4.85336035e-03, -1.48512265e-02, -2.90652760e-03,\n",
       "         2.24895105e-02,  1.00184456e-02, -5.63734910e-03, -9.52010229e-03,\n",
       "         1.11768069e-02,  1.23544987e-02,  4.21393383e-03,  6.41508540e-03,\n",
       "        -8.64423253e-03, -9.20609478e-03, -7.01501826e-03, -1.52722094e-02,\n",
       "        -1.62520912e-02,  5.85012557e-03, -1.25040011e-02,  3.37682711e-03,\n",
       "         6.37209229e-03,  5.98066580e-03,  7.86919054e-03,  9.21702012e-03,\n",
       "         1.29393926e-02, -1.43779563e-02,  3.62898200e-03, -2.01155636e-02,\n",
       "         1.81349814e-02, -9.84864775e-03, -1.66109595e-02,  6.48887409e-03,\n",
       "        -5.77859906e-03, -7.30100879e-03, -4.57991334e-03,  3.70425102e-03,\n",
       "        -1.91485472e-02, -9.48719401e-03, -4.24748007e-03, -1.31787849e-03,\n",
       "        -3.68727546e-04, -1.20458787e-03, -1.08913640e-02, -1.29538169e-02,\n",
       "        -1.64225679e-02,  1.58849861e-02, -1.48228733e-02,  1.83444261e-03,\n",
       "        -2.21840129e-03,  1.53133376e-02,  1.16595682e-02, -3.26960161e-02,\n",
       "        -6.62599597e-03,  7.06255483e-03,  1.86873320e-02, -1.18017606e-02,\n",
       "        -1.42734253e-03, -2.46283854e-03, -3.00315884e-03,  2.91720517e-02,\n",
       "        -6.62339479e-03,  1.31684905e-02,  3.56791046e-04, -6.89392257e-03,\n",
       "         1.55259743e-02,  4.65819519e-03, -1.70409065e-02,  7.07143079e-03,\n",
       "        -1.50130196e-02,  1.13874003e-02,  1.22068776e-02,  1.48613052e-02,\n",
       "         7.50747975e-03,  2.17923638e-03, -1.05669266e-02, -9.24361777e-03,\n",
       "         8.41118768e-03,  7.76833016e-03,  5.40229119e-03, -8.70475080e-03,\n",
       "        -7.96416774e-03, -1.27993934e-02,  7.04741804e-03, -1.84552632e-02,\n",
       "         3.90741453e-02, -1.60895812e-03, -1.77735835e-02, -7.13298272e-04,\n",
       "        -6.67861849e-03, -1.49521464e-03, -7.85349123e-03,  1.47135137e-03,\n",
       "        -6.42449083e-03, -2.33057747e-03, -7.65433721e-03,  1.60492305e-02,\n",
       "        -1.33628463e-02, -4.22671928e-06,  1.24461176e-02,  9.31989122e-03,\n",
       "        -1.24973720e-02, -1.18109863e-02,  5.88116050e-03,  1.20938709e-02,\n",
       "        -1.11296773e-02,  1.97278224e-02, -2.03789328e-03, -5.32550272e-03,\n",
       "        -1.80100985e-02, -1.75685808e-02,  5.88961458e-03, -3.42017622e-03,\n",
       "         1.41786980e-02, -1.01837227e-02, -2.58603226e-03,  9.91666783e-03,\n",
       "        -2.27621961e-02, -1.65415313e-02,  1.47582898e-02,  9.20908898e-03,\n",
       "         1.66624505e-02,  3.98317864e-03,  8.28058645e-03, -4.24462557e-03,\n",
       "         4.40206146e-03,  7.66257010e-03,  6.80726225e-05, -2.35093804e-03,\n",
       "         9.14588477e-03, -4.78930352e-03,  9.87233594e-04, -1.93010159e-02,\n",
       "         1.43198827e-02,  1.05096446e-02, -1.48384944e-02,  2.49983128e-02,\n",
       "        -1.32664498e-02,  1.80482138e-02,  4.91461623e-03, -2.22059805e-02,\n",
       "         5.89874433e-03, -2.39134766e-02, -1.48267336e-02, -9.48136207e-03,\n",
       "        -8.46146885e-03,  7.28851045e-03,  7.61209615e-03, -1.13914404e-02,\n",
       "        -2.37702839e-02,  4.00879420e-03, -1.06561370e-02, -1.56401880e-02,\n",
       "        -1.94609109e-02,  5.33656776e-03, -6.00926625e-03,  5.14606945e-03,\n",
       "         8.24064855e-03,  1.06052440e-02,  8.36885627e-03,  7.35708326e-03,\n",
       "         3.93891707e-03,  2.52827480e-02, -8.23549926e-03,  8.45197123e-03,\n",
       "        -6.09265082e-03,  5.99526521e-03,  1.12424558e-02, -1.41140772e-02,\n",
       "        -1.87190305e-02, -1.63934741e-03,  2.42818575e-02, -1.03303595e-02,\n",
       "        -3.47032654e-03, -6.43685577e-04, -1.74703766e-02, -4.12453758e-03,\n",
       "         1.59741973e-03,  5.13334584e-04,  2.53299698e-02, -3.54060042e-03,\n",
       "        -5.44964569e-03, -1.19096972e-03, -3.80128506e-03, -4.41335095e-03,\n",
       "        -1.08074183e-02,  1.21118994e-02, -9.60447360e-03, -9.43701249e-03,\n",
       "         2.69744731e-02,  6.31791493e-03, -5.25314361e-03, -1.65830795e-02,\n",
       "        -1.09422477e-02,  2.44179304e-04, -1.12358397e-02,  3.88871646e-03,\n",
       "        -5.92335127e-03, -9.56878811e-03,  5.57567924e-03,  1.36999032e-02,\n",
       "        -9.96010751e-03, -2.54638679e-03,  1.11865979e-02, -1.30589204e-02,\n",
       "         5.60908904e-03, -2.00786628e-03,  1.91418442e-03, -9.01718345e-03,\n",
       "        -2.18095612e-02,  1.33385593e-02,  2.73772003e-03, -8.13709851e-03,\n",
       "        -2.95136077e-03,  1.27155883e-02, -8.76056775e-03,  1.56009570e-02,\n",
       "         2.52882149e-02,  7.12076062e-03, -1.50019173e-02,  1.92058575e-03,\n",
       "        -2.14916151e-02,  1.27390660e-02, -3.20746098e-04,  1.12669040e-02,\n",
       "        -4.52226773e-03,  9.63720120e-03,  6.82645291e-03, -7.17689609e-03,\n",
       "         1.56202703e-03,  2.82937521e-03, -2.32393537e-02, -4.48489375e-03,\n",
       "        -2.45586445e-04, -3.37807462e-03,  2.00030464e-03, -7.20013119e-03,\n",
       "         1.66749880e-02, -8.55694246e-03,  1.27491530e-03,  1.80079117e-02,\n",
       "         6.83410442e-04, -8.23120528e-04,  1.65790059e-02, -1.65163185e-02,\n",
       "        -7.93928746e-03, -5.62795252e-03, -4.05743159e-03, -4.46035899e-03,\n",
       "         8.34715180e-03,  8.86617042e-03,  5.37643721e-03,  1.35612581e-02,\n",
       "        -5.37526794e-03,  1.57863852e-02,  2.43845209e-03,  1.82468072e-02,\n",
       "         9.13530588e-03,  1.09271146e-02, -7.77682071e-05, -6.10227138e-03,\n",
       "         9.38603934e-03, -5.23802685e-03, -1.07413973e-03, -7.08153762e-04,\n",
       "         1.25987940e-02,  2.46860296e-03,  1.24991145e-02,  1.94600143e-03,\n",
       "         5.66673744e-03, -5.12872124e-03, -8.39663669e-03, -8.71543866e-03,\n",
       "         5.60982106e-03, -1.32569587e-02,  4.14405344e-03, -3.91337904e-04,\n",
       "        -1.43600572e-02,  3.77157028e-03, -1.44889718e-03, -4.82376292e-03,\n",
       "        -2.09792387e-02,  3.29329702e-03, -9.69476532e-03,  8.25563259e-03,\n",
       "         1.92662198e-02, -3.25769186e-03, -2.28173472e-03,  1.61666684e-02,\n",
       "        -5.11736516e-03,  5.73657500e-03, -3.59446742e-02, -8.51846393e-03,\n",
       "         1.08989486e-02,  1.01486007e-02,  1.14645800e-02, -7.47536169e-03,\n",
       "        -6.41026883e-04, -1.64023526e-02,  6.68875687e-03, -9.14756488e-03,\n",
       "         4.76406934e-03, -9.98626184e-03,  1.19777862e-02, -4.28001210e-03,\n",
       "         1.17642321e-02, -2.57235412e-02,  2.97856750e-04, -4.29224223e-03,\n",
       "        -7.98199233e-03,  1.12900352e-02, -6.05787989e-03, -4.53554792e-03,\n",
       "        -9.39572323e-03,  4.72338311e-03, -5.96740516e-03,  3.13482102e-04,\n",
       "         4.58808616e-03, -5.45309484e-03, -7.75152817e-04, -4.53565130e-03,\n",
       "        -5.35369664e-03,  2.18492020e-02,  6.15314720e-03, -1.02069154e-02,\n",
       "         1.47884693e-02, -3.50202201e-03,  2.57896185e-02, -8.87508132e-03,\n",
       "        -1.41110672e-02, -1.79436523e-03,  1.16418637e-02, -1.36706401e-02,\n",
       "        -2.99613997e-02,  5.72483009e-03, -2.29316168e-02,  1.72285438e-02,\n",
       "        -7.00561213e-04,  8.73563811e-03, -1.39283901e-02,  3.04868864e-03,\n",
       "        -2.20821984e-02,  5.65244770e-03, -1.02186138e-02, -2.51236968e-02,\n",
       "         6.82289293e-03, -7.80079223e-04, -1.84519310e-02, -1.25867473e-02,\n",
       "        -1.65545978e-02, -1.99105497e-03, -1.00403819e-02, -7.72256544e-03,\n",
       "        -3.35157732e-03,  1.79309417e-02,  4.93087573e-03, -5.49748028e-03,\n",
       "        -6.32289448e-04,  6.47914177e-03,  6.56870566e-03,  6.94029359e-03,\n",
       "        -1.58487540e-02, -7.60425674e-03, -1.36783272e-02, -2.85615167e-03,\n",
       "        -7.98562448e-03, -5.06385183e-03, -1.99962482e-02, -1.53733380e-02,\n",
       "         1.51495878e-02,  9.37775988e-03,  1.06836893e-02, -8.72079656e-03,\n",
       "        -2.19833199e-03, -1.74052231e-02, -2.39519728e-03,  3.22332373e-04],\n",
       "       dtype=float32),\n",
       " array([[ 0.06000127,  0.03484411,  0.01254751, ...,  0.06580978,\n",
       "         -0.04419102, -0.04928553],\n",
       "        [-0.06593705,  0.06717627, -0.0369733 , ..., -0.02119329,\n",
       "         -0.01729807, -0.03228927],\n",
       "        [-0.00770036,  0.04480563, -0.02787766, ...,  0.08143532,\n",
       "          0.0430451 ,  0.04457383],\n",
       "        ...,\n",
       "        [ 0.00842514, -0.03683681,  0.03905489, ..., -0.01451543,\n",
       "          0.02878208,  0.04646367],\n",
       "        [-0.05291684,  0.03893168, -0.04275089, ..., -0.04824696,\n",
       "          0.00650383,  0.0368597 ],\n",
       "        [ 0.02420834, -0.0175935 , -0.00804837, ..., -0.01521542,\n",
       "         -0.03395792,  0.0325732 ]], dtype=float32),\n",
       " array([-1.07366759e-02,  1.81305036e-02, -9.17123165e-03,  2.63619353e-03,\n",
       "        -1.11262631e-02,  4.58110822e-03, -5.83284488e-03,  2.34019533e-02,\n",
       "        -1.55086201e-02, -1.16588138e-02,  6.09155628e-04, -3.67728695e-02,\n",
       "         2.05700994e-02, -4.45123389e-03,  2.06373148e-02, -3.08897207e-03,\n",
       "         1.89248323e-02, -6.74048392e-03, -1.13175879e-03, -1.33099388e-02,\n",
       "        -4.98935813e-03, -1.43055730e-02,  2.96367262e-03,  7.14898109e-03,\n",
       "         1.00658238e-02,  7.91213661e-03, -1.03477752e-02,  5.79849305e-03,\n",
       "        -8.40270519e-03,  4.20242408e-03, -7.48868287e-03, -8.55410937e-03,\n",
       "         8.84231832e-03,  4.06660419e-03, -6.45681284e-04, -4.96912748e-03,\n",
       "        -7.92667735e-04,  9.89983417e-03,  5.33946697e-03,  1.53591344e-02,\n",
       "        -1.29416576e-02,  6.22184901e-03, -1.05968164e-02,  2.47415993e-03,\n",
       "        -6.88770320e-03, -1.75809972e-02, -1.78203359e-02, -5.84874256e-03,\n",
       "         8.25983845e-03,  2.82863877e-03, -3.83400661e-03, -1.21041313e-02,\n",
       "         4.67000762e-03, -3.22373421e-03, -4.09485772e-03, -1.25785219e-02,\n",
       "         4.44143824e-03, -1.71356872e-02,  2.84385798e-03, -8.60638358e-03,\n",
       "        -6.90500624e-03,  1.27232994e-03,  7.51336291e-03,  1.78196151e-02,\n",
       "         1.22650070e-02,  1.56506971e-02, -2.09931377e-03, -3.45976395e-03,\n",
       "         1.87755078e-02,  1.67002268e-02,  1.44546910e-03,  1.48820980e-02,\n",
       "         8.87633022e-03, -1.45911481e-02, -1.79002788e-02, -1.14706894e-02,\n",
       "         1.27946027e-02,  8.75941664e-03,  4.24204394e-04,  3.40653030e-04,\n",
       "        -1.17771486e-02,  9.18795820e-03, -7.51598785e-03, -9.57242586e-03,\n",
       "         1.50053278e-02, -4.13638214e-03, -1.31468661e-02,  9.81966313e-03,\n",
       "         6.38086209e-03, -1.14308828e-02,  8.10997188e-03, -1.32725819e-03,\n",
       "         1.72525446e-03,  3.97293922e-03,  1.15875937e-02,  1.87826175e-02,\n",
       "        -1.58904511e-02,  9.40954033e-03,  1.72044914e-02, -8.29300005e-03,\n",
       "         2.05930462e-03,  7.09543310e-05,  2.68357946e-03,  1.07660089e-02,\n",
       "         1.50485011e-02, -8.02302361e-03,  9.24058445e-03,  1.21152010e-02,\n",
       "        -1.32616330e-02,  1.94617566e-02, -8.16629967e-04, -2.98253889e-03,\n",
       "        -6.90882886e-03, -1.69284679e-02,  2.05260590e-02,  1.14417197e-02,\n",
       "         8.41404963e-03, -1.48322983e-02, -3.54003138e-03,  8.28430522e-03,\n",
       "        -3.63620277e-03,  9.21727903e-03, -8.47359467e-03,  2.04884307e-03,\n",
       "        -1.38228619e-02, -3.64715816e-03,  1.72747560e-02, -1.23572312e-02,\n",
       "        -9.63329989e-03, -5.42590627e-03,  1.75254159e-02,  1.51872495e-03,\n",
       "        -1.14816222e-02,  6.97246240e-03,  1.52831506e-02,  2.74057011e-03,\n",
       "         9.32155270e-03, -1.37747806e-02,  1.82870124e-02,  1.79867409e-02,\n",
       "         9.43276752e-03, -8.23892653e-03, -7.15611968e-03, -6.87586935e-03,\n",
       "        -8.60312860e-03,  1.15905693e-02,  3.79252277e-04, -1.47376442e-02,\n",
       "         1.93931106e-02, -8.69140774e-03,  9.04281973e-04,  2.00074911e-02,\n",
       "         1.91639569e-02, -3.58397054e-04, -1.34027088e-02,  4.61606309e-03,\n",
       "        -1.66809484e-02, -4.59308224e-03, -1.70886163e-02, -5.12521062e-03,\n",
       "        -1.10870022e-02,  2.57257223e-02,  7.05401134e-03,  1.20221423e-02,\n",
       "        -1.00475475e-02,  1.37464248e-03,  2.32875105e-02, -2.04063323e-03,\n",
       "         7.40755536e-03,  3.24075203e-03, -2.10291743e-02, -1.32006668e-02,\n",
       "         9.44032427e-03, -4.17406438e-03,  7.40247732e-03,  5.02265431e-03,\n",
       "        -3.35948635e-03, -1.52941281e-03, -5.96641563e-03,  6.29889593e-03,\n",
       "         9.50847939e-03, -2.11166292e-02,  1.30646350e-02,  1.05500715e-02,\n",
       "         1.85555350e-02, -3.38572077e-03,  6.89459406e-03, -1.62039287e-02,\n",
       "         1.44540202e-02, -6.02362771e-03, -1.15576154e-02,  9.95253399e-03,\n",
       "        -2.32252496e-05, -3.80692712e-04, -7.59175932e-03, -4.22843359e-03,\n",
       "        -2.79835314e-02,  4.58919676e-03,  8.50709714e-03,  7.72139989e-03,\n",
       "        -7.45698018e-03,  1.63464565e-02, -9.42802522e-03,  1.31597063e-02,\n",
       "         8.55436781e-04,  7.90442340e-03,  4.54897294e-03,  9.94139723e-03,\n",
       "         1.63774414e-03,  8.04290641e-03, -3.06121483e-02,  1.55052347e-02,\n",
       "        -9.43079963e-03,  5.17931161e-03,  2.25948542e-03,  1.09250741e-02,\n",
       "        -2.95545231e-03, -1.40945949e-02, -6.20777532e-03, -2.10157055e-02,\n",
       "         7.24611850e-03,  2.26192689e-03, -1.29694389e-02, -8.79756734e-03,\n",
       "        -6.42456440e-03,  1.69334412e-02, -8.36318918e-03, -4.62246500e-03,\n",
       "         1.70457456e-02,  5.35304984e-03, -1.17206369e-02, -4.84102592e-03,\n",
       "         5.98260527e-03, -6.00913772e-03, -3.54182557e-03,  9.00018681e-03,\n",
       "         7.52483204e-04, -7.77308736e-03, -9.44574177e-03, -2.57920404e-03,\n",
       "        -1.63693819e-02,  6.75844355e-03, -9.67334490e-03, -1.38095766e-02,\n",
       "        -1.52358832e-02,  1.17897522e-02, -4.99089062e-03,  6.31509256e-03,\n",
       "         6.33932650e-03, -1.45722646e-02,  1.52086113e-02,  2.03955509e-02,\n",
       "        -8.90427548e-03, -7.62167433e-03,  1.49890874e-03,  2.44175959e-02,\n",
       "        -7.50437612e-03,  7.10519822e-03, -3.51880142e-03,  6.56392542e-04,\n",
       "        -6.78607030e-03, -3.58962221e-03, -2.84932498e-02, -6.40466204e-03,\n",
       "         5.35844965e-03, -4.02231904e-04, -1.78572275e-02,  1.65998917e-02,\n",
       "         5.98307408e-04,  2.43110862e-03, -6.68253051e-03, -2.40190160e-02,\n",
       "        -1.68673955e-02,  3.53402371e-04,  6.99936412e-03, -1.18262088e-03,\n",
       "         9.12615936e-03, -6.70135999e-03, -2.19156803e-03, -1.81972492e-03,\n",
       "         3.18326731e-03, -6.26948941e-03,  1.97071694e-02,  6.03816193e-03,\n",
       "        -1.68417376e-02,  3.13500618e-03, -7.31100794e-03,  1.09924795e-02,\n",
       "         1.78013984e-02, -2.11827923e-02, -3.68712991e-02, -2.00999640e-02,\n",
       "         4.83307813e-04, -5.60317363e-04, -8.35639890e-03,  5.73808420e-03,\n",
       "        -8.24989751e-03, -5.86028537e-03, -6.91487873e-03,  5.68536343e-03,\n",
       "        -8.08394700e-03,  9.28440318e-03,  2.24126823e-04, -1.94779364e-03,\n",
       "         1.43787423e-02, -3.17862108e-02, -5.56303049e-03, -9.79173183e-03,\n",
       "         2.40953770e-02,  5.21612586e-03, -2.39180867e-02, -1.53559623e-02,\n",
       "        -3.44837154e-03,  1.12083983e-02, -1.73563994e-02,  1.42265875e-02,\n",
       "         1.39839398e-02, -1.05407005e-02,  2.48539113e-02, -4.93509369e-03,\n",
       "        -1.01587679e-02,  8.36938340e-03,  8.10912810e-03,  1.36671420e-02,\n",
       "         2.21306598e-03,  6.34665461e-03, -8.94440990e-03, -1.64030772e-02,\n",
       "         5.44503331e-04,  1.55342219e-04, -7.57565629e-03,  3.14676110e-03,\n",
       "         1.08326972e-02, -1.79101396e-02,  2.54404750e-02,  2.09260788e-02,\n",
       "        -9.16986912e-03,  4.32412140e-03, -1.71737652e-02,  7.39682233e-03,\n",
       "        -8.15051980e-03,  9.69486125e-03, -5.58418781e-03,  7.54885608e-03,\n",
       "        -1.44098951e-02,  7.96486624e-03,  1.16221923e-02, -8.68314598e-03,\n",
       "        -5.95070748e-03, -1.60264950e-02, -1.16316108e-02, -1.77194783e-03,\n",
       "        -2.12038290e-02, -6.12483942e-04, -6.54994277e-03, -1.06824655e-02,\n",
       "         3.76874022e-03,  1.16482610e-03, -2.83787027e-03,  1.66677870e-02,\n",
       "        -1.99433812e-03,  1.16719594e-02,  2.30496116e-02,  7.73716194e-04,\n",
       "         1.63712818e-03, -6.79319585e-03, -1.00687584e-02, -1.21549433e-02,\n",
       "        -1.37777915e-02, -1.19199278e-02, -1.76218078e-02,  5.32352424e-04,\n",
       "        -1.00995461e-02, -1.28473528e-02, -9.70953703e-03,  3.16275517e-03,\n",
       "         5.32565499e-03,  2.24907678e-02, -6.25957595e-03, -1.71919782e-02,\n",
       "        -3.64461448e-03,  1.89247765e-02, -1.46088647e-02, -1.92923602e-02,\n",
       "        -5.71408076e-03,  1.24507034e-02, -1.16507253e-02,  3.19335498e-02,\n",
       "        -4.45867935e-03, -2.13593021e-02, -1.47775747e-02,  1.02512464e-02,\n",
       "         1.51112094e-03, -6.53164601e-03, -1.60928536e-02, -3.69378994e-03,\n",
       "        -1.08150216e-02, -6.79064961e-03, -2.51021422e-02, -9.61451698e-03,\n",
       "        -7.09983706e-03,  3.06528131e-03, -1.33913103e-03, -2.18115910e-03,\n",
       "        -1.01549560e-02,  9.08005610e-03,  1.08876191e-02,  2.14370564e-02,\n",
       "        -7.91804027e-03, -3.51138157e-03, -3.30818887e-03, -8.98167118e-03,\n",
       "         3.17110540e-03,  9.48563591e-03,  1.48426136e-02, -6.90040784e-03,\n",
       "         1.34952441e-02, -1.74211222e-04,  4.04923921e-03, -3.33832228e-03,\n",
       "         1.68143045e-02,  9.06371698e-03,  9.50345211e-03, -6.24932162e-03,\n",
       "         1.28361455e-03, -4.28459654e-03,  2.65214290e-03,  3.26545094e-04,\n",
       "        -7.63016520e-03, -1.77362747e-02,  8.27153679e-03, -1.29407598e-02,\n",
       "         1.75710942e-03, -1.57263875e-02, -7.50326505e-03, -3.54467682e-03,\n",
       "        -1.23019144e-02,  2.12435480e-02, -6.10778923e-04,  6.01866422e-03,\n",
       "         4.72372957e-03,  1.18357909e-03,  1.53273530e-02, -6.25918387e-03,\n",
       "        -1.93377435e-02,  5.59993275e-03,  1.50904618e-02, -5.56171220e-03,\n",
       "        -2.58883405e-02, -6.30520796e-03, -2.54965536e-02, -2.61699446e-02,\n",
       "         1.06329825e-02,  4.92169382e-03, -1.19858645e-02,  1.57824121e-02,\n",
       "         1.70054976e-02,  5.22173289e-03, -9.43441316e-03, -5.19764144e-03,\n",
       "        -5.77355316e-03,  7.55527348e-04, -3.95075604e-03, -1.12660583e-02,\n",
       "         4.88431565e-03,  1.62954461e-02, -2.35991925e-03, -5.39893238e-03,\n",
       "        -1.60097647e-02, -5.25122881e-03,  5.85372932e-03, -9.03263036e-03,\n",
       "         1.58134475e-02,  6.38804911e-03, -1.77899916e-02, -1.36993243e-04,\n",
       "         2.34937225e-03,  3.47383209e-02, -7.97563232e-03, -1.39903817e-02,\n",
       "         7.26507325e-03, -5.54524502e-03, -9.32677556e-03,  6.26847707e-03,\n",
       "         2.30923351e-02,  1.74967444e-03,  4.20446694e-03,  1.63639858e-02,\n",
       "         1.03052752e-02,  1.21442247e-02,  1.48453778e-02, -1.34132500e-03,\n",
       "        -2.34350357e-02,  1.48195392e-02,  1.57336481e-02, -1.84834539e-03,\n",
       "        -2.34592799e-02, -1.58507214e-03, -6.20138645e-03, -1.19072255e-02,\n",
       "         2.74572913e-02, -4.44318226e-04,  7.44085666e-03, -7.59287830e-03,\n",
       "         2.99063837e-03,  8.59642401e-03, -1.61670204e-02,  8.04607011e-03,\n",
       "         2.06260709e-03, -5.51676098e-03, -2.05009449e-02, -4.02053306e-03],\n",
       "       dtype=float32),\n",
       " array([[-0.061695  , -0.00081292, -0.00237283, ..., -0.08722051,\n",
       "          0.05795786, -0.07273281],\n",
       "        [ 0.01481724, -0.01138331, -0.06562879, ...,  0.03019837,\n",
       "         -0.0278916 ,  0.03492402],\n",
       "        [ 0.05513015, -0.0501592 ,  0.05226575, ...,  0.01929446,\n",
       "          0.04099731, -0.06961839],\n",
       "        ...,\n",
       "        [-0.07435577,  0.05643222, -0.04241849, ...,  0.03857588,\n",
       "         -0.07640866,  0.077488  ],\n",
       "        [ 0.02955518,  0.0373964 ,  0.03720493, ...,  0.02261759,\n",
       "          0.00560783,  0.04511967],\n",
       "        [-0.08219846, -0.05664138, -0.04544941, ...,  0.06432167,\n",
       "         -0.08444455, -0.00217375]], dtype=float32),\n",
       " array([ 9.83030070e-03, -2.58625182e-03, -5.81069011e-03,  1.20053254e-03,\n",
       "         4.57819551e-03, -2.00739615e-02,  1.72600001e-02, -2.60749031e-02,\n",
       "        -1.20113855e-02, -2.38723867e-02,  1.94099899e-02, -2.16185655e-02,\n",
       "        -1.10619543e-02,  2.06344668e-02,  3.57450591e-03,  1.47958379e-02,\n",
       "         1.84025709e-02, -3.93027265e-04, -8.72531068e-03,  1.94634534e-02,\n",
       "        -8.18375498e-03,  2.87241843e-02, -1.73583943e-02, -2.58463318e-03,\n",
       "         1.18194371e-02, -9.19108931e-03,  1.30430646e-02,  1.58244669e-02,\n",
       "        -3.42073734e-03,  2.36704312e-02, -6.96081435e-03, -8.60164035e-03,\n",
       "        -2.93558314e-02,  7.62267364e-03,  1.01894774e-02,  1.62016544e-02,\n",
       "        -2.10325047e-03, -2.04438064e-02, -4.86618337e-05, -3.22654210e-02,\n",
       "        -9.22848005e-03, -1.09100090e-02, -1.10789686e-02, -3.01485718e-03,\n",
       "        -1.20553374e-02, -4.29971097e-03,  9.09368414e-03,  2.17020400e-02,\n",
       "        -2.68301903e-03, -6.36573462e-03, -6.86395913e-03,  6.99116569e-03,\n",
       "        -1.48128681e-02, -1.47962691e-02,  3.96488358e-05, -7.07151927e-03,\n",
       "        -1.66396738e-03, -2.18484886e-02, -1.70129631e-02, -4.49474854e-03,\n",
       "        -8.22600070e-03, -7.70505692e-04,  1.46795548e-02,  4.96456772e-03,\n",
       "        -1.79276168e-02,  2.03195345e-02,  6.72499230e-03,  9.73750278e-03,\n",
       "         2.13630730e-03, -1.74410231e-02,  2.36617145e-03, -1.53427199e-02,\n",
       "        -6.77511003e-03, -5.80944121e-03,  5.53469826e-03, -4.50172974e-03,\n",
       "        -7.11341295e-03, -1.09347410e-03,  3.24022840e-03, -5.34506328e-03,\n",
       "        -8.08643363e-03, -7.36905541e-03,  7.14359852e-03,  5.94698964e-03,\n",
       "        -5.43599809e-03, -2.74302214e-02, -5.00244647e-03, -1.07903900e-02,\n",
       "         7.56307738e-04, -2.22456995e-02,  1.71967819e-02,  5.61393145e-03,\n",
       "        -4.10764012e-03, -2.79364618e-03, -3.03050946e-03, -1.06386440e-02,\n",
       "        -6.94843242e-03,  1.42618325e-02, -1.36995001e-03, -1.47617739e-02,\n",
       "        -1.84991919e-02, -9.33776144e-03,  1.37741510e-02,  3.70645616e-03,\n",
       "         1.41754569e-02,  7.83886202e-03,  1.72589514e-02, -1.68251083e-03,\n",
       "        -8.60036351e-03, -1.17933573e-02,  8.79445113e-03,  2.17691716e-03,\n",
       "        -8.41267779e-03, -5.99410245e-03, -7.40924093e-04, -2.66362505e-04,\n",
       "        -8.57316423e-03, -1.19351074e-02,  1.27731534e-02,  7.18542095e-03,\n",
       "         2.10676878e-03,  1.62861049e-02, -1.93093941e-02, -5.02136210e-03,\n",
       "         4.28177556e-03, -5.19115850e-03, -1.05239376e-02,  1.66712571e-02,\n",
       "         7.59538263e-03, -4.32763062e-03,  7.45181087e-03,  5.13996137e-03,\n",
       "         1.77223347e-02,  5.53130824e-03, -8.26770067e-03,  1.17145274e-02,\n",
       "         1.68075673e-02, -3.71400523e-03, -1.27525982e-02, -3.83799197e-04,\n",
       "        -7.18891853e-04, -8.17968696e-03,  2.14214083e-02, -8.81887693e-03,\n",
       "         7.77551439e-03,  2.86156833e-02,  3.18805245e-03,  1.80112235e-02,\n",
       "         1.27943307e-02, -1.01380665e-02, -4.25308477e-03, -1.03767021e-02,\n",
       "        -3.78582231e-03, -1.00527750e-02, -1.97628643e-02,  2.17980314e-02,\n",
       "         1.83715057e-02, -1.24594318e-02,  2.50852760e-03, -1.98469590e-02,\n",
       "         1.05662756e-02,  3.45073146e-04, -2.57521775e-02, -1.64079368e-02,\n",
       "        -1.79451981e-05,  1.67663733e-03,  7.06849108e-03,  5.71114337e-03,\n",
       "        -5.73756965e-03, -2.03149058e-02,  1.08466661e-02, -4.62171249e-03,\n",
       "         8.79589841e-03, -2.44632736e-03,  1.04665360e-03, -1.77285932e-02,\n",
       "        -2.78518477e-04,  6.37902645e-03, -9.43672191e-03,  5.02141751e-03,\n",
       "         1.72581635e-02, -1.76982060e-02,  1.43741015e-02,  5.02194557e-03,\n",
       "        -9.01906006e-03,  7.29230372e-03, -2.10038256e-02,  1.98343340e-02,\n",
       "        -3.89128015e-03, -3.92296817e-03, -8.40177387e-03, -6.49416400e-03,\n",
       "         3.71446437e-03,  1.35194939e-02,  1.10977497e-02, -7.43683474e-03,\n",
       "        -2.59206467e-03, -8.21761973e-03,  3.24276835e-03, -5.76255098e-03,\n",
       "        -3.93568305e-03,  2.41907500e-03,  5.64457942e-03, -1.07541401e-02,\n",
       "         1.84261650e-02, -1.01888564e-03,  1.42906541e-02,  2.27560364e-02,\n",
       "        -5.37676411e-03,  7.53573654e-03,  4.68325382e-03, -8.06561299e-03,\n",
       "        -1.91555321e-02,  2.81564128e-02, -1.35145131e-02, -1.40796127e-02,\n",
       "        -6.52905833e-03,  7.65551347e-03,  2.30650976e-02, -9.24777985e-03,\n",
       "         2.83968952e-02, -2.15463396e-02, -1.17829256e-02,  2.09030136e-02,\n",
       "         3.66663910e-04, -9.27535817e-03, -4.13028151e-03, -2.01237053e-02,\n",
       "        -1.41312303e-02,  6.10839203e-03,  1.13282548e-02,  1.38499197e-02,\n",
       "        -2.19561774e-02, -1.11325653e-02,  1.81769095e-02,  9.84281488e-03,\n",
       "        -2.07945183e-02,  1.86689422e-02,  1.45535613e-03,  1.17909051e-02,\n",
       "         8.75791721e-03, -1.93841830e-02, -7.86103588e-03,  1.63572077e-02,\n",
       "        -3.08197550e-03, -1.68445967e-02, -9.52217821e-03, -4.88237711e-03,\n",
       "         7.50828942e-04,  1.51239242e-02, -1.61031298e-02,  1.65522825e-02,\n",
       "         1.18755931e-02,  8.29146616e-03, -1.79408956e-02, -1.02659352e-02,\n",
       "         1.86553539e-03, -1.08400220e-02,  7.24926591e-03,  1.18768411e-02,\n",
       "        -5.45110460e-03, -1.25587657e-02, -9.73376445e-03,  1.17607834e-02,\n",
       "         5.95107861e-03,  1.61144864e-02, -6.80891890e-03,  2.05489248e-02,\n",
       "        -1.05518929e-03, -5.81091596e-03, -1.43747479e-02,  1.43828271e-02,\n",
       "         2.66512614e-02, -1.58189833e-02,  9.73896682e-03, -6.24558795e-03,\n",
       "         3.40834074e-03, -1.56107740e-02,  2.68854480e-02,  8.34267586e-03,\n",
       "         2.09510159e-02, -1.80091932e-02, -5.09230420e-03,  4.73189959e-03,\n",
       "        -4.45592310e-03, -7.67287705e-03, -7.01260706e-03, -9.64730140e-03,\n",
       "        -8.47367663e-03,  4.95530711e-03, -1.16620595e-02,  1.55107342e-02,\n",
       "        -2.14555450e-02, -2.10847706e-03, -2.64256005e-03,  1.61029398e-02,\n",
       "         1.71544682e-02,  3.88731831e-03,  3.24711925e-03,  2.17605364e-02,\n",
       "         1.99852418e-03, -2.07826272e-02, -1.07262824e-02,  7.50785740e-03,\n",
       "         1.04351323e-02, -1.32497987e-02, -1.74863767e-02, -6.52108947e-03,\n",
       "        -1.27135580e-02,  3.46503104e-03, -3.76170105e-03, -2.55914107e-02,\n",
       "         2.02725851e-03, -8.83533526e-03, -4.60632658e-03,  3.63684632e-03,\n",
       "         3.89564550e-03,  1.63403079e-02,  6.21333532e-03,  1.21486373e-02,\n",
       "         1.94778270e-03, -1.13041084e-02, -1.79808401e-02, -6.87194103e-03,\n",
       "         1.69685651e-02, -2.01331843e-02,  7.00669270e-03,  1.77733565e-03,\n",
       "        -1.73662156e-02,  1.42888287e-02,  4.38849954e-03,  1.18881220e-03,\n",
       "         1.61763206e-02, -5.89110795e-03,  9.58406273e-03, -2.11177487e-02,\n",
       "        -5.04129240e-03, -8.77590943e-03,  2.12093559e-03, -1.97339267e-03,\n",
       "        -1.78323332e-02,  2.53941007e-02,  1.57378018e-02,  7.20851682e-03,\n",
       "        -1.44819682e-02, -4.95504774e-03, -8.82172491e-03,  1.48157757e-02,\n",
       "        -4.77012130e-04, -6.15127990e-03, -1.12802330e-02,  5.66986809e-03,\n",
       "        -1.59534030e-02,  2.21874323e-02, -6.08050218e-03,  2.43005771e-02,\n",
       "         6.52026106e-03, -1.16343296e-03, -3.53775744e-04,  3.23211332e-03,\n",
       "         2.13707350e-02, -1.23084271e-02, -2.05855593e-02,  5.59015665e-03,\n",
       "         2.05487777e-02, -2.25604745e-03, -3.85425542e-03, -1.55257843e-02,\n",
       "         7.25290366e-03,  7.82917347e-03,  5.46455057e-03, -1.57725327e-02,\n",
       "        -2.56475788e-02,  1.18989954e-02,  6.86258497e-03,  4.74366080e-03,\n",
       "         3.51104507e-04,  3.90593940e-03, -1.33214481e-02, -3.66169633e-03,\n",
       "         1.06777912e-02,  1.93502579e-03, -5.48708299e-03,  1.98723096e-02,\n",
       "        -9.15369391e-03, -2.05563940e-02, -5.92808938e-03, -2.04751594e-03,\n",
       "        -1.49991142e-03,  1.23847062e-02,  6.99566153e-04,  1.87514462e-02,\n",
       "        -6.51608314e-03, -1.42490482e-02, -1.37501694e-02,  1.96194835e-02,\n",
       "         8.63777567e-03,  5.67302248e-03,  2.04501152e-02,  1.10012703e-02,\n",
       "         9.44502838e-03,  1.65631790e-02, -6.44620275e-03, -1.37403598e-02,\n",
       "        -1.75557788e-02,  1.21249296e-02,  2.00710725e-03,  8.78089387e-03,\n",
       "         1.59500949e-02,  2.97596399e-03,  6.12874283e-05, -1.01894210e-03,\n",
       "        -4.61983465e-04,  5.94643643e-03,  9.69356298e-03, -1.48723470e-02,\n",
       "        -2.57765111e-02, -5.91224991e-03,  1.40691279e-02,  6.94334274e-03,\n",
       "        -8.73949658e-03, -8.72557424e-03,  1.95268076e-03,  1.29874342e-03,\n",
       "        -1.61765516e-02, -1.56884100e-02,  7.47236982e-03,  2.29507070e-02,\n",
       "        -1.68972816e-02,  1.78802069e-02, -9.08638816e-03, -1.75126512e-02,\n",
       "        -5.73795428e-03, -1.33172814e-02, -4.05718992e-03,  1.69271138e-02,\n",
       "         5.49009489e-03, -7.07723666e-03, -6.18396152e-04,  1.13695161e-02,\n",
       "         1.53172286e-02,  1.70699023e-02,  1.93501227e-02, -1.11775352e-02,\n",
       "        -1.22181484e-02, -5.08598052e-03,  5.82657335e-03, -9.73466597e-03,\n",
       "         1.23407980e-02, -3.08440602e-03,  1.40190478e-02, -1.22633092e-02,\n",
       "         1.82335265e-02,  1.53190177e-02, -7.02606793e-03,  1.87254082e-02,\n",
       "        -1.23543898e-02, -6.52741501e-03, -9.39008966e-03, -6.59061642e-03,\n",
       "        -8.87674093e-03, -1.52455422e-03, -1.67861755e-03,  7.66497245e-03,\n",
       "        -1.15934089e-02, -1.46635750e-03, -3.33508686e-03, -1.10533023e-02,\n",
       "         1.66460853e-02, -4.76971222e-03,  6.62115077e-03, -2.38311407e-03,\n",
       "        -6.83004875e-03,  2.74220482e-03,  7.91306421e-03,  1.20458947e-02,\n",
       "        -2.77495645e-02,  6.15148759e-03,  4.61428106e-04,  2.87763076e-03,\n",
       "         2.15953793e-02, -6.21222937e-03,  5.72461926e-04,  1.85601637e-02,\n",
       "         1.29853804e-02, -1.93621105e-04,  2.78395182e-03,  6.27582241e-03,\n",
       "         1.52524002e-02, -2.36494318e-02,  4.29094676e-03,  5.96858794e-03,\n",
       "        -4.01736936e-03, -9.93640162e-03,  1.42313289e-02, -4.62117000e-03,\n",
       "         1.37639605e-03, -1.14437053e-02,  5.73191419e-03, -1.11558875e-02,\n",
       "         1.17474236e-02,  3.11799999e-03, -5.10001974e-03, -8.33094772e-03,\n",
       "        -5.43140201e-03,  3.39321024e-03,  2.25663348e-03,  1.57506987e-02,\n",
       "         1.70101952e-02,  1.72964782e-02, -1.95568151e-04,  5.04192011e-03],\n",
       "       dtype=float32),\n",
       " array([[-0.00793894, -0.0803618 , -0.00991698, ..., -0.04541291,\n",
       "         -0.02214072, -0.00627967],\n",
       "        [-0.05143936, -0.08053213, -0.06397416, ...,  0.0338971 ,\n",
       "         -0.06069861,  0.09779172],\n",
       "        [ 0.03299139, -0.06775831,  0.00117946, ..., -0.0188437 ,\n",
       "          0.07789006, -0.05693418],\n",
       "        ...,\n",
       "        [-0.03127354,  0.08393312, -0.05345508, ..., -0.06171196,\n",
       "          0.05211087,  0.0463676 ],\n",
       "        [-0.07190629, -0.00098529,  0.01554586, ..., -0.04646944,\n",
       "          0.02054756,  0.0211427 ],\n",
       "        [ 0.00575   ,  0.0450562 , -0.08803453, ..., -0.07963918,\n",
       "         -0.08528803, -0.03270023]], dtype=float32),\n",
       " array([-1.88819673e-02,  8.03664885e-03, -3.28419474e-03,  1.65053289e-02,\n",
       "        -2.71185022e-03,  1.93745252e-02,  1.75565500e-02,  1.37729687e-03,\n",
       "        -1.10757686e-02,  1.04086651e-02, -7.02233752e-03,  2.39162836e-02,\n",
       "        -1.56571958e-02,  1.33744013e-02,  6.63351151e-04,  1.88109986e-02,\n",
       "         2.84610428e-02,  1.75748337e-02, -2.98081874e-03, -1.96629646e-03,\n",
       "         5.08506829e-03, -3.68844667e-05,  2.63337158e-02,  9.49360523e-03,\n",
       "        -1.16818212e-02, -4.46550036e-03, -5.06604509e-03,  5.08213975e-03,\n",
       "         2.01101191e-02, -7.17913359e-03,  2.44093104e-03, -4.68140235e-03,\n",
       "        -2.21913010e-02,  4.80227545e-03,  1.99419372e-02, -1.04832295e-02,\n",
       "         1.40275406e-02,  1.20125618e-02,  1.97809283e-02, -2.10872479e-02,\n",
       "        -1.80969536e-02, -1.21622421e-02,  7.08448375e-03,  6.39563054e-03,\n",
       "        -1.40593983e-02, -9.69852041e-03, -1.20014427e-02, -8.77234805e-03,\n",
       "         2.39698049e-02, -2.48227660e-02,  1.28930546e-02,  2.64493562e-03,\n",
       "        -1.51517652e-02, -2.24835072e-02, -3.88845848e-03, -1.30991917e-02,\n",
       "        -1.14637697e-02, -1.92696659e-03,  2.48985086e-02, -2.38291100e-02,\n",
       "         3.59929772e-03,  2.62019085e-03, -4.38499759e-04, -3.86741455e-03,\n",
       "        -1.74215175e-02,  1.66255962e-02, -3.17922502e-04, -7.95861427e-03,\n",
       "        -1.15756756e-02,  2.37082057e-02,  1.36536257e-02, -1.10067185e-02,\n",
       "        -1.19685214e-02, -8.68317299e-03, -5.66999428e-03,  1.28758932e-02,\n",
       "        -6.89751422e-03,  2.80982326e-03,  2.87900330e-03,  1.80751588e-02,\n",
       "         1.19159138e-02, -5.04195131e-03,  2.01241858e-03, -7.31275277e-03,\n",
       "         1.84619927e-03,  1.20869884e-02,  3.48705612e-03,  1.49972662e-02,\n",
       "        -1.21917166e-02, -7.95450993e-04,  5.51495701e-03,  2.84962431e-02,\n",
       "         2.77076699e-02,  6.51328545e-03, -5.10085747e-03,  3.09142959e-03,\n",
       "         1.46286683e-02,  1.12541178e-02, -1.18484092e-03,  7.51026580e-03,\n",
       "         1.60578340e-02,  2.49531176e-02, -1.33764539e-02,  5.03719505e-03,\n",
       "         1.43392105e-02,  6.39550760e-03,  1.23238573e-02, -1.58251766e-02,\n",
       "         2.64642239e-02, -1.18242670e-02, -1.96927413e-02, -1.51310125e-02,\n",
       "        -1.48605425e-02,  4.24327003e-03,  1.00327739e-02, -2.07885467e-02,\n",
       "         1.81678068e-02, -1.04015339e-02, -5.02095278e-03,  1.46860154e-02,\n",
       "        -1.29217133e-02, -1.56491529e-02,  1.96225271e-02, -2.52122455e-03,\n",
       "         1.54086780e-02,  2.14128662e-02,  2.14384273e-02, -1.32406838e-02,\n",
       "        -1.93319283e-02,  9.05403495e-03, -2.35792976e-02, -3.28441500e-03,\n",
       "         6.61814259e-03,  1.80481989e-02, -2.02081110e-02, -2.41828687e-03,\n",
       "        -3.79565731e-03,  2.35742126e-02, -2.65831966e-02,  9.93154477e-03,\n",
       "         1.55216246e-03,  1.87942926e-02, -5.65376179e-03, -2.13211253e-02,\n",
       "         1.30159510e-02, -1.17015624e-02, -1.11190649e-02,  4.37250454e-03,\n",
       "        -1.70915537e-02,  3.47724371e-03, -1.31893931e-02, -1.10142399e-02,\n",
       "         1.97118502e-02, -4.01469273e-03,  1.87651142e-02, -2.31191888e-02,\n",
       "         1.49587896e-02,  1.67034548e-02,  2.15491056e-02,  4.78414958e-03,\n",
       "        -7.62839278e-04, -1.85279548e-02,  3.34943272e-03,  7.97855575e-03,\n",
       "        -1.07007306e-02, -5.52965002e-03, -1.09004220e-02,  3.00085191e-02,\n",
       "         7.23459432e-03, -5.12413913e-03, -1.50012849e-02, -8.96090455e-03,\n",
       "        -9.14962124e-03, -6.49330532e-03, -5.64138731e-03,  5.93799120e-03,\n",
       "         1.19670769e-02,  1.10789668e-02, -1.03046177e-02, -1.61594693e-02,\n",
       "        -3.99230467e-03,  3.95224057e-03,  1.45888580e-02,  4.75081522e-03,\n",
       "         7.89209921e-03, -2.10112915e-03, -1.79601796e-02,  1.95536073e-02,\n",
       "         6.75396016e-03, -2.49058809e-02,  1.18042277e-02,  2.76910737e-02,\n",
       "        -8.62187613e-03, -1.26697058e-02,  2.80527361e-02,  7.43388955e-05,\n",
       "         2.56340690e-02, -1.19468225e-02, -2.16723289e-02, -7.43491156e-03,\n",
       "        -1.91441514e-02, -2.46118810e-02,  8.19652714e-03,  1.69611871e-02,\n",
       "        -2.43616197e-02, -1.42649096e-02,  1.74464453e-02, -4.73610545e-03,\n",
       "         1.53782987e-03,  5.18852239e-03, -1.88234486e-02, -1.25820022e-02,\n",
       "        -4.35596751e-03, -8.93919729e-03,  2.42525879e-02,  1.41113102e-02,\n",
       "        -4.17348975e-03, -2.11825920e-03, -1.57071855e-02,  7.58969598e-03,\n",
       "        -3.62783717e-03, -1.84871517e-02, -5.69831068e-03,  8.80060438e-03,\n",
       "         7.07205338e-03,  5.94339846e-03, -1.66527294e-02, -2.01696553e-03,\n",
       "         2.62012519e-02,  6.97264867e-03, -2.80179502e-03, -1.69326141e-02,\n",
       "        -5.91127668e-03, -7.70131545e-03, -6.15776610e-03,  1.11557019e-03,\n",
       "         2.35652495e-02,  2.18508840e-02, -1.79140586e-02,  1.84178967e-02,\n",
       "        -5.28585631e-03, -1.66630279e-02,  1.23023875e-02, -3.65192955e-03,\n",
       "        -2.03139838e-02, -2.07955465e-02, -1.19447475e-02,  1.74570214e-02,\n",
       "         6.35013636e-03, -5.66190155e-03,  2.66979006e-03, -4.69813868e-03,\n",
       "        -8.03287979e-03,  1.89429428e-02, -2.50657126e-02,  1.42632322e-02],\n",
       "       dtype=float32),\n",
       " array([[-4.28758748e-02, -8.40039849e-02,  4.24212813e-02],\n",
       "        [-6.38419539e-02,  9.63050574e-02, -9.19458270e-02],\n",
       "        [-3.64567116e-02,  1.09182082e-01,  6.28670910e-03],\n",
       "        [ 4.88528721e-02,  9.32505131e-02, -6.93253204e-02],\n",
       "        [-2.75585335e-02,  1.31691441e-01,  5.96102886e-02],\n",
       "        [-6.10735863e-02, -7.88150206e-02, -1.53901041e-01],\n",
       "        [ 9.32387728e-03, -1.16526812e-01, -1.45395100e-01],\n",
       "        [ 3.59348650e-03, -1.13040758e-02,  9.59301554e-03],\n",
       "        [-2.39540599e-02, -1.02047205e-01,  3.58555950e-02],\n",
       "        [ 5.89576513e-02, -1.07871719e-01, -1.36726303e-02],\n",
       "        [-1.34110093e-01,  3.77924033e-02, -1.11218886e-02],\n",
       "        [ 1.10033989e-01,  1.04485303e-01, -3.51286158e-02],\n",
       "        [ 5.64029394e-03,  1.58240683e-02,  6.36279657e-02],\n",
       "        [-2.76474245e-02,  5.00810780e-02, -1.47487223e-01],\n",
       "        [ 8.27825293e-02, -1.24656215e-01,  4.26895879e-02],\n",
       "        [ 2.10670438e-02,  2.21602302e-02, -2.40836367e-02],\n",
       "        [ 8.41438919e-02,  8.22114125e-02, -9.78271812e-02],\n",
       "        [ 8.13023597e-02, -6.77598417e-02, -1.01212822e-01],\n",
       "        [-1.18298657e-01,  1.01929478e-01, -1.37504265e-01],\n",
       "        [ 5.09301946e-02, -8.16655532e-02,  5.93720116e-02],\n",
       "        [ 7.79892132e-02, -2.54539885e-02, -2.10014638e-03],\n",
       "        [ 2.94633536e-03,  1.20985895e-01,  2.27696858e-02],\n",
       "        [ 1.44986629e-01,  5.72244972e-02, -1.08310044e-01],\n",
       "        [ 2.93230694e-02, -1.30224317e-01, -9.33085456e-02],\n",
       "        [-1.10203393e-01,  3.83341196e-03,  1.21106103e-01],\n",
       "        [ 2.04028636e-02, -8.47792253e-02,  4.27469499e-02],\n",
       "        [ 8.30266923e-02,  3.55547965e-02,  8.11831206e-02],\n",
       "        [ 8.83189514e-02, -2.56069247e-02, -2.54132133e-02],\n",
       "        [ 3.32224928e-02,  8.58983025e-02, -1.46749429e-02],\n",
       "        [ 2.16957480e-02,  2.65639531e-03,  1.01077825e-01],\n",
       "        [ 1.08913988e-01,  8.47854018e-02,  1.46005481e-01],\n",
       "        [-1.02781035e-01,  1.21984869e-01, -4.49117757e-02],\n",
       "        [-1.06931396e-01, -1.27820149e-01,  5.36249094e-02],\n",
       "        [-6.22002333e-02, -4.80688699e-02, -8.81901160e-02],\n",
       "        [ 6.63691536e-02,  3.43519216e-03, -1.45847157e-01],\n",
       "        [ 5.17869480e-02, -2.65651923e-02,  1.30022258e-01],\n",
       "        [ 1.41414240e-01,  1.17739812e-01,  6.63191155e-02],\n",
       "        [ 2.72528101e-02, -4.98457029e-02, -1.17061421e-01],\n",
       "        [ 1.46234468e-01, -2.22385731e-02, -8.53477940e-02],\n",
       "        [-2.58300845e-02,  5.54827787e-02,  1.27689213e-01],\n",
       "        [ 4.95307446e-02,  5.72461858e-02,  7.07349703e-02],\n",
       "        [-1.15139291e-01, -1.27447635e-01, -4.28171158e-02],\n",
       "        [-1.65574737e-02, -2.60749757e-02, -3.59947272e-02],\n",
       "        [-6.49150088e-02, -1.31050974e-01, -1.03847504e-01],\n",
       "        [-1.33090004e-01,  2.91530993e-02,  8.81134495e-02],\n",
       "        [ 4.67040315e-02,  1.17226504e-01,  9.58976820e-02],\n",
       "        [-2.56449301e-02, -1.04505546e-01,  7.15412349e-02],\n",
       "        [-1.42202497e-01,  2.49229912e-02,  7.69909844e-02],\n",
       "        [ 1.36183187e-01,  1.21236257e-01, -8.70188996e-02],\n",
       "        [-2.65660379e-02, -1.44438744e-02,  8.64351243e-02],\n",
       "        [ 6.60557300e-02,  8.55561346e-02,  4.61361222e-02],\n",
       "        [-1.84123572e-02, -1.08473085e-01, -2.17812546e-02],\n",
       "        [-1.32396445e-01,  8.51561055e-02,  4.72568311e-02],\n",
       "        [-6.69295043e-02, -7.05582052e-02,  1.24159545e-01],\n",
       "        [-7.27629885e-02,  6.67832941e-02, -1.16073014e-02],\n",
       "        [-1.12980597e-01,  9.33585912e-02, -4.28334326e-02],\n",
       "        [ 8.80040675e-02,  8.41337293e-02,  9.75725949e-02],\n",
       "        [-1.11920238e-01,  1.15305714e-01,  1.00460045e-01],\n",
       "        [-8.28763563e-03, -6.97732717e-02, -1.48785055e-01],\n",
       "        [-7.13575725e-03, -1.09829716e-01,  1.24548584e-01],\n",
       "        [-5.60788140e-02, -1.39124274e-01, -2.69662589e-02],\n",
       "        [-5.36077991e-02, -3.54253836e-02, -9.11871269e-02],\n",
       "        [-4.86127883e-02,  2.66096257e-02, -2.97165290e-02],\n",
       "        [ 1.17367804e-01, -4.04888205e-02,  1.43589810e-01],\n",
       "        [ 3.32604647e-02,  8.16423595e-02,  1.21107340e-01],\n",
       "        [ 9.09821168e-02,  4.11422886e-02,  1.59084164e-02],\n",
       "        [ 6.88306019e-02, -5.60481064e-02,  1.25227138e-01],\n",
       "        [ 1.91985518e-02, -1.04921378e-01,  6.53138533e-02],\n",
       "        [-1.02312788e-01,  8.67644604e-03, -5.30540273e-02],\n",
       "        [ 5.42157516e-02, -3.89489457e-02, -1.40345156e-01],\n",
       "        [-3.25878039e-02, -1.06851317e-01, -8.42305124e-02],\n",
       "        [ 4.65779603e-02, -1.39592379e-01,  8.24332982e-02],\n",
       "        [-9.81094465e-02, -1.01182640e-01, -8.46583210e-03],\n",
       "        [-2.21195677e-03,  1.31389603e-01,  1.43868983e-01],\n",
       "        [-1.40519202e-01, -5.29909097e-02, -1.25542328e-01],\n",
       "        [-5.69426827e-02, -1.13473393e-01, -1.32629469e-01],\n",
       "        [ 2.08490118e-02, -8.71120840e-02,  1.04161903e-01],\n",
       "        [-3.69652323e-02, -8.33370686e-02, -2.70989537e-02],\n",
       "        [ 1.86748002e-02,  5.15421852e-02, -6.08056523e-02],\n",
       "        [ 8.67305771e-02, -6.56669363e-02, -1.28271997e-01],\n",
       "        [ 1.13076225e-01, -4.17958871e-02,  4.00734358e-02],\n",
       "        [-1.11224271e-01,  8.74570236e-02,  8.08544680e-02],\n",
       "        [ 2.52890382e-02, -1.41201735e-01,  5.80877401e-02],\n",
       "        [-1.42565006e-02,  8.20627213e-02,  4.12544534e-02],\n",
       "        [-1.83551349e-02, -1.15764663e-01,  2.86752786e-02],\n",
       "        [ 1.12894721e-01,  4.35279496e-02,  7.24143535e-02],\n",
       "        [ 3.13453116e-02, -5.87750524e-02, -5.92123680e-02],\n",
       "        [-2.90588364e-02, -6.86414028e-03, -1.18152298e-01],\n",
       "        [-2.36379318e-02,  5.83438799e-02,  1.04642160e-01],\n",
       "        [ 1.12387752e-02, -1.09330900e-01, -2.24117562e-02],\n",
       "        [ 1.20678961e-01,  7.45487958e-02,  1.17150202e-01],\n",
       "        [-7.28715882e-02, -7.39990175e-02, -1.36827618e-01],\n",
       "        [ 1.55796245e-01,  9.40929204e-02,  6.23382255e-02],\n",
       "        [ 3.40177156e-02, -2.80998368e-02, -3.26108895e-02],\n",
       "        [-1.13216512e-01,  7.62650445e-02, -1.75044648e-02],\n",
       "        [ 1.17232002e-01, -8.98388028e-02,  6.39378875e-02],\n",
       "        [ 1.33754492e-01, -7.34370053e-02, -1.46837518e-01],\n",
       "        [-4.27592024e-02, -1.35318235e-01, -1.15500733e-01],\n",
       "        [-8.28263387e-02,  9.68923420e-02, -1.12975352e-01],\n",
       "        [-5.94754331e-02, -1.38978465e-02, -1.27978593e-01],\n",
       "        [ 8.11841562e-02, -3.14635448e-02, -1.17423162e-01],\n",
       "        [ 2.09221039e-02,  4.19387333e-02, -1.45759329e-01],\n",
       "        [-1.41215980e-01,  9.02833417e-02,  1.44819736e-01],\n",
       "        [ 1.33970588e-01, -8.90388116e-02,  7.97167122e-02],\n",
       "        [ 1.39439613e-01,  1.07525647e-01,  8.75520930e-02],\n",
       "        [-1.36771081e-02, -5.33297099e-02, -5.99331185e-02],\n",
       "        [ 7.67588839e-02, -1.07646398e-01, -1.21594377e-01],\n",
       "        [-6.64258450e-02, -1.25937089e-01,  1.10071257e-01],\n",
       "        [-3.32015712e-04, -8.68483186e-02, -1.23828359e-01],\n",
       "        [-2.87353192e-02, -2.11732499e-02, -6.74118986e-03],\n",
       "        [-1.38635367e-01, -1.31778866e-01,  8.71050730e-02],\n",
       "        [-1.39015973e-01,  2.23155711e-02,  1.44967079e-01],\n",
       "        [-1.29590735e-01, -1.30829960e-01, -1.05613030e-01],\n",
       "        [-4.63709198e-02, -1.21018469e-01,  1.04682334e-02],\n",
       "        [ 4.45877276e-02,  1.00408524e-01, -1.68407448e-02],\n",
       "        [-8.95221308e-02, -6.56042546e-02,  2.14081816e-02],\n",
       "        [ 9.89301801e-02,  7.64909834e-02, -8.16122815e-02],\n",
       "        [-2.21092831e-02,  3.78535539e-02,  2.21882928e-02],\n",
       "        [-2.76633967e-02,  3.23281661e-02, -4.34825663e-03],\n",
       "        [-3.33291292e-02,  9.33536813e-02, -1.39051035e-01],\n",
       "        [-4.28941101e-02,  1.35383725e-01,  1.10468440e-01],\n",
       "        [-9.06074122e-02, -8.67935196e-02, -1.26276538e-02],\n",
       "        [ 1.12115957e-01,  1.11706749e-01, -4.93417643e-02],\n",
       "        [-3.99582423e-02,  7.21773207e-02, -8.43269452e-02],\n",
       "        [ 1.87196061e-02,  1.40344501e-01, -1.34221599e-01],\n",
       "        [ 1.33110687e-01,  1.28744900e-01,  1.04179904e-01],\n",
       "        [ 6.05481025e-03,  2.23002248e-02, -1.21555112e-01],\n",
       "        [ 3.15754265e-02,  1.47897226e-04,  6.58467263e-02],\n",
       "        [-1.10388145e-01, -3.75284776e-02,  6.21334240e-02],\n",
       "        [-6.56746179e-02, -3.32880467e-02, -1.27477005e-01],\n",
       "        [-1.45863935e-01, -1.37204647e-01,  6.38660267e-02],\n",
       "        [-1.26589969e-01, -1.38860077e-01, -9.19520631e-02],\n",
       "        [ 1.93838624e-03,  7.85489380e-03,  8.42144433e-03],\n",
       "        [ 1.08301722e-01,  5.00284694e-02, -1.43462420e-01],\n",
       "        [-1.11491382e-01,  5.55402506e-03,  6.72123805e-02],\n",
       "        [-1.12873897e-01,  1.85476465e-03, -1.21762812e-01],\n",
       "        [-6.45294264e-02,  5.31321801e-02, -3.49942818e-02],\n",
       "        [ 6.17325343e-02,  8.15085173e-02, -6.40377477e-02],\n",
       "        [ 3.71770561e-02,  2.64187120e-02,  1.26109749e-01],\n",
       "        [ 1.23219199e-01, -5.74676581e-02, -4.98121679e-02],\n",
       "        [ 1.02125257e-01,  7.28252949e-03,  1.14552706e-01],\n",
       "        [ 1.66677753e-03,  2.03469004e-02, -1.17450595e-01],\n",
       "        [-5.09537645e-02,  4.48559970e-02,  4.30145450e-02],\n",
       "        [-1.30478337e-01, -5.40348589e-02, -1.16006630e-02],\n",
       "        [ 4.37560342e-02, -9.54645686e-03, -6.96439669e-02],\n",
       "        [-1.16178118e-01,  3.98019794e-03,  7.07074553e-02],\n",
       "        [-9.61187780e-02, -1.15062051e-01, -9.76988394e-03],\n",
       "        [ 7.62875304e-02, -8.20397511e-02,  1.40489072e-01],\n",
       "        [ 8.02129582e-02,  1.16529092e-01,  1.34729072e-01],\n",
       "        [ 9.80733428e-03, -5.57124019e-02,  1.98900439e-02],\n",
       "        [-6.43534735e-02,  4.22963547e-03,  1.49866089e-01],\n",
       "        [-1.25557378e-01,  1.14695057e-01,  4.26087417e-02],\n",
       "        [ 7.27474019e-02,  1.12771627e-03, -1.20804965e-01],\n",
       "        [ 1.95408724e-02, -6.98435083e-02,  6.24708720e-02],\n",
       "        [ 7.97916129e-02, -3.30270045e-02, -4.06587496e-02],\n",
       "        [-3.33593041e-02, -3.04725170e-02,  3.31457071e-02],\n",
       "        [ 1.12517409e-01, -3.38091515e-02, -4.37611938e-02],\n",
       "        [-7.17504323e-02, -3.06771602e-02, -1.13881625e-01],\n",
       "        [ 1.12596147e-01,  6.33457303e-03, -1.40207738e-01],\n",
       "        [ 4.64876043e-03,  7.77323991e-02, -7.59372562e-02],\n",
       "        [-4.13086917e-03, -6.94883317e-02,  4.85104583e-02],\n",
       "        [-1.05012432e-02, -3.41473222e-02,  1.12832174e-01],\n",
       "        [ 8.65984783e-02, -7.89274201e-02,  1.29776463e-01],\n",
       "        [ 7.46100917e-02,  8.36377684e-03,  5.53659089e-02],\n",
       "        [ 1.38113946e-01,  1.45449162e-01,  1.38608664e-01],\n",
       "        [-6.60982132e-02, -1.31409138e-01,  8.79717898e-03],\n",
       "        [-1.11645438e-01, -9.04470086e-02, -8.58393684e-02],\n",
       "        [ 1.20112658e-01,  1.16875678e-01,  1.28220813e-02],\n",
       "        [ 1.01057597e-01, -1.22515783e-01,  7.03070536e-02],\n",
       "        [-9.37975422e-02,  8.24192464e-02,  4.45303842e-02],\n",
       "        [ 4.82978448e-02,  3.94622013e-02,  7.10352361e-02],\n",
       "        [-1.03747591e-01,  1.16955757e-01,  5.04831001e-02],\n",
       "        [ 1.46092745e-02,  2.85380147e-02,  2.86853611e-02],\n",
       "        [-1.05222240e-01,  7.94249102e-02, -9.88946110e-02],\n",
       "        [-4.05648760e-02,  1.15319610e-01,  8.24460760e-02],\n",
       "        [-7.89838284e-02, -5.10779582e-02, -7.96671584e-02],\n",
       "        [ 5.76491188e-03, -8.73802602e-02, -1.07927956e-01],\n",
       "        [ 7.26253763e-02, -3.30799893e-02, -5.39445691e-02],\n",
       "        [ 1.15642538e-02,  8.03550258e-02, -8.49146023e-03],\n",
       "        [ 6.24879859e-02,  7.44815990e-02,  1.47968158e-01],\n",
       "        [ 9.36597511e-02, -1.59559157e-02,  1.07115939e-01],\n",
       "        [-3.27554271e-02, -4.84233908e-02, -2.42964346e-02],\n",
       "        [ 6.61883578e-02, -1.08199771e-02, -5.54934554e-02],\n",
       "        [ 1.36879429e-01,  4.06581461e-02,  1.08539201e-01],\n",
       "        [-1.34077117e-01, -4.53708954e-02, -1.57620504e-01],\n",
       "        [-1.32662952e-01,  1.22422948e-01, -1.53137483e-02],\n",
       "        [-5.41236997e-02, -4.84802313e-02,  3.05311959e-02],\n",
       "        [ 1.18633717e-01, -6.17397018e-03,  1.19646518e-02],\n",
       "        [ 8.04908648e-02,  2.96706278e-02,  3.45436409e-02],\n",
       "        [-1.38868764e-01, -3.92868072e-02,  5.56968302e-02],\n",
       "        [ 4.84601334e-02,  7.22364560e-02,  1.04919402e-02],\n",
       "        [ 1.05419517e-01,  9.17640701e-02, -1.69024561e-02],\n",
       "        [-2.94472910e-02, -9.63497981e-02,  5.35880066e-02],\n",
       "        [ 3.78014334e-02, -2.65178401e-02,  1.35155767e-01],\n",
       "        [ 8.36910829e-02,  6.48626685e-02, -8.47568735e-02],\n",
       "        [ 9.79292616e-02,  9.35463533e-02,  1.10514738e-01],\n",
       "        [ 1.26342699e-01, -7.19240354e-03, -1.07599519e-01],\n",
       "        [-9.23151672e-02, -3.24228145e-02, -2.29689851e-02],\n",
       "        [-1.07187644e-01,  4.14848216e-02,  1.02794498e-01],\n",
       "        [-1.31165728e-01,  1.17973395e-01, -1.39805540e-01],\n",
       "        [-1.63696520e-03,  8.45143665e-03,  3.36891487e-02],\n",
       "        [-1.13425337e-01, -1.19685374e-01,  9.31587592e-02],\n",
       "        [ 1.08990325e-02, -9.79884714e-02, -3.72316800e-02],\n",
       "        [ 1.12880990e-01,  9.40751135e-02, -6.47305474e-02],\n",
       "        [-1.34603858e-01, -5.35811074e-02,  1.26264215e-01],\n",
       "        [-4.93588438e-03,  2.49281563e-02,  6.78415224e-02],\n",
       "        [ 9.13776383e-02,  5.84358834e-02, -6.79168850e-02],\n",
       "        [-1.13354623e-01, -8.46989676e-02, -9.19407457e-02],\n",
       "        [-1.05966618e-02, -7.34023144e-03, -1.76685918e-02],\n",
       "        [ 2.57307012e-02,  6.53390214e-02, -5.21678990e-03],\n",
       "        [-1.30300179e-01, -1.36283142e-02,  4.33138236e-02],\n",
       "        [-4.41534817e-02, -8.33332986e-02,  6.02712594e-02],\n",
       "        [-9.95482206e-02,  1.16556197e-01, -1.08067185e-01],\n",
       "        [-1.50110368e-02,  2.95855924e-02, -1.92901455e-02],\n",
       "        [ 2.14024372e-02, -8.63953456e-02, -6.62939548e-02],\n",
       "        [-1.68740854e-03,  3.15774381e-02, -9.40197334e-02],\n",
       "        [ 1.28101602e-01, -4.73454446e-02,  1.43455699e-01],\n",
       "        [-7.86243528e-02, -1.51868805e-01, -7.88542405e-02],\n",
       "        [-6.56468943e-02, -1.02137730e-01, -3.11706718e-02],\n",
       "        [ 4.00711745e-02, -1.36342257e-01, -1.19047850e-01],\n",
       "        [ 4.12608869e-02, -3.60264704e-02,  3.90946791e-02],\n",
       "        [-6.92874715e-02, -1.05066806e-01,  1.26952246e-01],\n",
       "        [ 9.80107021e-03, -8.67138132e-02,  1.09637715e-01],\n",
       "        [ 9.40171853e-02, -6.58000410e-02,  1.40297115e-01],\n",
       "        [ 7.45671391e-02, -9.09515321e-02,  7.81634748e-02],\n",
       "        [ 3.64188366e-02, -8.17214400e-02, -1.07654050e-01],\n",
       "        [ 5.82744600e-03, -3.98488939e-02,  8.27360153e-02],\n",
       "        [ 9.06599313e-02,  6.48688897e-03,  1.43921003e-01],\n",
       "        [ 7.51368254e-02, -1.53018180e-02, -6.41272068e-02],\n",
       "        [ 1.08408116e-01,  5.33358827e-02,  7.82535598e-02],\n",
       "        [-8.07555467e-02,  1.11238725e-01,  6.29378064e-03],\n",
       "        [-1.43866152e-01, -1.61417518e-02,  1.40419722e-01],\n",
       "        [ 1.22271761e-01, -1.25472426e-01,  5.02932817e-02],\n",
       "        [-7.09572760e-03,  6.61792085e-02,  1.02555029e-01],\n",
       "        [-1.26632020e-01, -2.25066617e-02, -1.19868152e-01],\n",
       "        [ 1.00066014e-01,  9.52913612e-02,  9.47056785e-02],\n",
       "        [ 1.33684471e-01, -2.53353007e-02, -3.97256017e-02],\n",
       "        [-6.79692402e-02, -7.86662549e-02, -1.20166324e-01],\n",
       "        [-8.57044533e-02, -1.37371749e-01,  1.43106401e-01],\n",
       "        [ 6.09348342e-02, -1.34515792e-01, -4.66287136e-02],\n",
       "        [-1.15804911e-01,  1.15901686e-01, -9.54938605e-02],\n",
       "        [-3.88391577e-02, -4.77594882e-02,  4.23326641e-02],\n",
       "        [ 9.13421512e-02,  1.33156538e-01, -5.13953110e-03],\n",
       "        [-6.33972511e-02,  2.22394746e-02,  1.04410134e-01],\n",
       "        [-7.87608549e-02, -8.86249468e-02,  3.84017155e-02],\n",
       "        [-7.74544701e-02, -3.86163592e-02,  1.16659194e-01],\n",
       "        [ 4.76821559e-03, -1.05081528e-01,  9.78378803e-02],\n",
       "        [ 1.20573156e-01,  8.23535696e-02,  6.13482483e-02],\n",
       "        [-4.05322611e-02,  1.29496321e-01, -8.81674662e-02],\n",
       "        [ 5.26992530e-02,  1.13410003e-01,  1.06109880e-01],\n",
       "        [ 1.00729525e-01, -1.19678706e-01,  2.98808003e-03],\n",
       "        [ 8.83064941e-02,  6.22746982e-02,  9.62583646e-02],\n",
       "        [-8.89537707e-02,  2.96967644e-02, -7.34413490e-02],\n",
       "        [ 1.18877284e-01,  5.20734787e-02,  2.46922243e-02],\n",
       "        [-1.12198330e-01, -6.21287115e-02,  1.09408312e-01],\n",
       "        [ 1.42808899e-01,  1.20769367e-01,  5.24075143e-02]], dtype=float32),\n",
       " array([ 0.0131123 , -0.00158167, -0.02313344], dtype=float32)]"
      ]
     },
     "execution_count": 154,
     "metadata": {},
     "output_type": "execute_result"
    }
   ],
   "source": [
    "weight=model_2.get_weights()\n",
    "weight"
   ]
  },
  {
   "cell_type": "code",
   "execution_count": 155,
   "metadata": {},
   "outputs": [
    {
     "name": "stdout",
     "output_type": "stream",
     "text": [
      "(5184,)\n",
      "(5184,)\n",
      "(5184,)\n",
      "(5184,)\n",
      "(5184, 1024)\n",
      "(1024,)\n",
      "(1024, 512)\n",
      "(512,)\n",
      "(512, 512)\n",
      "(512,)\n",
      "(512, 512)\n",
      "(512,)\n",
      "(512, 256)\n",
      "(256,)\n",
      "(256, 3)\n",
      "(3,)\n"
     ]
    }
   ],
   "source": [
    "weight=model_2.get_weights()\n",
    "for i in weight:\n",
    "    print(i.shape)"
   ]
  },
  {
   "cell_type": "code",
   "execution_count": 156,
   "metadata": {
    "scrolled": true
   },
   "outputs": [
    {
     "data": {
      "text/plain": [
       "<matplotlib.image.AxesImage at 0xbe71741d0>"
      ]
     },
     "execution_count": 156,
     "metadata": {},
     "output_type": "execute_result"
    },
    {
     "data": {
      "image/png": "[encoded data removed]",
      "text/plain": [
       "<Figure size 432x288 with 1 Axes>"
      ]
     },
     "metadata": {},
     "output_type": "display_data"
    }
   ],
   "source": [
    "plt.imshow(weight[0].reshape(IMAGE_SIZE,IMAGE_SIZE), cmap='gray')"
   ]
  },
  {
   "cell_type": "code",
   "execution_count": 157,
   "metadata": {
    "scrolled": true
   },
   "outputs": [
    {
     "data": {
      "text/plain": [
       "<matplotlib.image.AxesImage at 0xbe6fa4fd0>"
      ]
     },
     "execution_count": 157,
     "metadata": {},
     "output_type": "execute_result"
    },
    {
     "data": {
      "image/png": "[encoded data removed]",
      "text/plain": [
       "<Figure size 432x288 with 1 Axes>"
      ]
     },
     "metadata": {},
     "output_type": "display_data"
    }
   ],
   "source": [
    "plt.imshow(weight[1].reshape(IMAGE_SIZE,IMAGE_SIZE), cmap='gray')"
   ]
  },
  {
   "cell_type": "code",
   "execution_count": 158,
   "metadata": {},
   "outputs": [
    {
     "data": {
      "text/plain": [
       "<matplotlib.image.AxesImage at 0xb31cdc710>"
      ]
     },
     "execution_count": 158,
     "metadata": {},
     "output_type": "execute_result"
    },
    {
     "data": {
      "image/png": "[encoded data removed]",
      "text/plain": [
       "<Figure size 432x288 with 1 Axes>"
      ]
     },
     "metadata": {},
     "output_type": "display_data"
    }
   ],
   "source": [
    "plt.imshow(weight[2].reshape(IMAGE_SIZE,IMAGE_SIZE), cmap='gray')"
   ]
  },
  {
   "cell_type": "code",
   "execution_count": 159,
   "metadata": {},
   "outputs": [
    {
     "data": {
      "text/plain": [
       "<matplotlib.image.AxesImage at 0xbd4259cf8>"
      ]
     },
     "execution_count": 159,
     "metadata": {},
     "output_type": "execute_result"
    },
    {
     "data": {
      "image/png": "[encoded data removed]",
      "text/plain": [
       "<Figure size 432x288 with 1 Axes>"
      ]
     },
     "metadata": {},
     "output_type": "display_data"
    }
   ],
   "source": [
    "plt.imshow(weight[3].reshape(IMAGE_SIZE,IMAGE_SIZE), cmap='gray')"
   ]
  },
  {
   "cell_type": "markdown",
   "metadata": {},
   "source": [
    "# 5. A More Difficult Classification Problem\n",
    "Train a convolutional (not-to-)deep network on this new dataset. What is the value of the loss function on this test set when using your deep network?\n",
    "\n",
    "Hints: You can limit yourself to 1 convolutional layer with 16 5×5 filters, 1 pooling layer, and one fully connected layer, but you are free to use any other architecture. You are allowed to increase the number of training samples if you want to."
   ]
  },
  {
   "cell_type": "code",
   "execution_count": 7,
   "metadata": {},
   "outputs": [
    {
     "name": "stdout",
     "output_type": "stream",
     "text": [
      "Creating data:\n",
      "0\n",
      "10\n",
      "20\n",
      "30\n",
      "40\n",
      "50\n",
      "60\n",
      "70\n",
      "80\n",
      "90\n",
      "100\n",
      "110\n",
      "120\n",
      "130\n",
      "140\n",
      "150\n",
      "160\n",
      "170\n",
      "180\n",
      "190\n",
      "200\n",
      "210\n",
      "220\n",
      "230\n",
      "240\n",
      "250\n",
      "260\n",
      "270\n",
      "280\n",
      "290\n",
      "300\n",
      "310\n",
      "320\n",
      "330\n",
      "340\n",
      "350\n",
      "360\n",
      "370\n",
      "380\n",
      "390\n",
      "400\n",
      "410\n",
      "420\n",
      "430\n",
      "440\n",
      "450\n",
      "460\n",
      "470\n",
      "480\n",
      "490\n",
      "500\n",
      "510\n",
      "520\n",
      "530\n",
      "540\n",
      "550\n",
      "560\n",
      "570\n",
      "580\n",
      "590\n",
      "600\n",
      "610\n",
      "620\n",
      "630\n",
      "640\n",
      "650\n",
      "660\n",
      "670\n",
      "680\n",
      "690\n",
      "700\n",
      "710\n",
      "720\n",
      "730\n",
      "740\n",
      "750\n",
      "760\n",
      "770\n",
      "780\n",
      "790\n",
      "800\n",
      "810\n",
      "820\n",
      "830\n",
      "840\n",
      "850\n",
      "860\n",
      "870\n",
      "880\n",
      "890\n",
      "900\n",
      "910\n",
      "920\n",
      "930\n",
      "940\n",
      "950\n",
      "960\n",
      "970\n",
      "980\n",
      "990\n",
      "1000\n",
      "1010\n",
      "1020\n",
      "1030\n",
      "1040\n",
      "1050\n",
      "1060\n",
      "1070\n",
      "1080\n",
      "1090\n",
      "1100\n",
      "1110\n",
      "1120\n",
      "1130\n",
      "1140\n",
      "1150\n",
      "1160\n",
      "1170\n",
      "1180\n",
      "1190\n",
      "1200\n",
      "1210\n",
      "1220\n",
      "1230\n",
      "1240\n",
      "1250\n",
      "1260\n",
      "1270\n",
      "1280\n",
      "1290\n",
      "1300\n",
      "1310\n",
      "1320\n",
      "1330\n",
      "1340\n",
      "1350\n",
      "1360\n",
      "1370\n",
      "1380\n",
      "1390\n",
      "1400\n",
      "1410\n",
      "1420\n",
      "1430\n",
      "1440\n",
      "1450\n",
      "1460\n",
      "1470\n",
      "1480\n",
      "1490\n",
      "1500\n",
      "1510\n",
      "1520\n",
      "1530\n",
      "1540\n",
      "1550\n",
      "1560\n",
      "1570\n",
      "1580\n",
      "1590\n",
      "1600\n",
      "1610\n",
      "1620\n",
      "1630\n",
      "1640\n",
      "1650\n",
      "1660\n",
      "1670\n",
      "1680\n",
      "1690\n",
      "1700\n",
      "1710\n",
      "1720\n",
      "1730\n",
      "1740\n",
      "1750\n",
      "1760\n",
      "1770\n",
      "1780\n",
      "1790\n",
      "1800\n",
      "1810\n",
      "1820\n",
      "1830\n",
      "1840\n",
      "1850\n",
      "1860\n",
      "1870\n",
      "1880\n",
      "1890\n",
      "1900\n",
      "1910\n",
      "1920\n",
      "1930\n",
      "1940\n",
      "1950\n",
      "1960\n",
      "1970\n",
      "1980\n",
      "1990\n",
      "2000\n",
      "2010\n",
      "2020\n",
      "2030\n",
      "2040\n",
      "2050\n",
      "2060\n",
      "2070\n",
      "2080\n",
      "2090\n",
      "2100\n",
      "2110\n",
      "2120\n",
      "2130\n",
      "2140\n",
      "2150\n",
      "2160\n",
      "2170\n",
      "2180\n",
      "2190\n",
      "2200\n",
      "2210\n",
      "2220\n",
      "2230\n",
      "2240\n",
      "2250\n",
      "2260\n",
      "2270\n",
      "2280\n",
      "2290\n",
      "2300\n",
      "2310\n",
      "2320\n",
      "2330\n",
      "2340\n",
      "2350\n",
      "2360\n",
      "2370\n",
      "2380\n",
      "2390\n",
      "2400\n",
      "2410\n",
      "2420\n",
      "2430\n",
      "2440\n",
      "2450\n",
      "2460\n",
      "2470\n",
      "2480\n",
      "2490\n",
      "2500\n",
      "2510\n",
      "2520\n",
      "2530\n",
      "2540\n",
      "2550\n",
      "2560\n",
      "2570\n",
      "2580\n",
      "2590\n",
      "2600\n",
      "2610\n",
      "2620\n",
      "2630\n",
      "2640\n",
      "2650\n",
      "2660\n",
      "2670\n",
      "2680\n",
      "2690\n",
      "2700\n",
      "2710\n",
      "2720\n",
      "2730\n",
      "2740\n",
      "2750\n",
      "2760\n",
      "2770\n",
      "2780\n",
      "2790\n",
      "2800\n",
      "2810\n",
      "2820\n",
      "2830\n",
      "2840\n",
      "2850\n",
      "2860\n",
      "2870\n",
      "2880\n",
      "2890\n",
      "2900\n",
      "2910\n",
      "2920\n",
      "2930\n",
      "2940\n",
      "2950\n",
      "2960\n",
      "2970\n",
      "2980\n",
      "2990\n"
     ]
    }
   ],
   "source": [
    "[X_train_2, Y_train_2] = generate_dataset_classification(3000, 20, True)"
   ]
  },
  {
   "cell_type": "code",
   "execution_count": 8,
   "metadata": {
    "scrolled": false
   },
   "outputs": [
    {
     "name": "stdout",
     "output_type": "stream",
     "text": [
      "Creating data:\n",
      "0\n",
      "10\n",
      "20\n",
      "30\n",
      "40\n",
      "50\n",
      "60\n",
      "70\n",
      "80\n",
      "90\n",
      "100\n",
      "110\n",
      "120\n",
      "130\n",
      "140\n",
      "150\n",
      "160\n",
      "170\n",
      "180\n",
      "190\n",
      "200\n",
      "210\n",
      "220\n",
      "230\n",
      "240\n",
      "250\n",
      "260\n",
      "270\n",
      "280\n",
      "290\n"
     ]
    }
   ],
   "source": [
    "[X_test_2, Y_test_2] = generate_test_set_classification()"
   ]
  },
  {
   "cell_type": "code",
   "execution_count": 9,
   "metadata": {},
   "outputs": [],
   "source": [
    "Y_train_2 = to_categorical(Y_train_2)"
   ]
  },
  {
   "cell_type": "code",
   "execution_count": 10,
   "metadata": {
    "scrolled": true
   },
   "outputs": [
    {
     "data": {
      "text/plain": [
       "(3000, 3)"
      ]
     },
     "execution_count": 10,
     "metadata": {},
     "output_type": "execute_result"
    }
   ],
   "source": [
    "Y_train_2.shape"
   ]
  },
  {
   "cell_type": "code",
   "execution_count": 11,
   "metadata": {},
   "outputs": [
    {
     "data": {
      "text/plain": [
       "array([0., 1., 0.], dtype=float32)"
      ]
     },
     "execution_count": 11,
     "metadata": {},
     "output_type": "execute_result"
    }
   ],
   "source": [
    "Y_train_2[0]"
   ]
  },
  {
   "cell_type": "code",
   "execution_count": 12,
   "metadata": {},
   "outputs": [
    {
     "data": {
      "text/plain": [
       "(3000, 5184)"
      ]
     },
     "execution_count": 12,
     "metadata": {},
     "output_type": "execute_result"
    }
   ],
   "source": [
    "X_train_2.shape"
   ]
  },
  {
   "cell_type": "code",
   "execution_count": 13,
   "metadata": {},
   "outputs": [],
   "source": [
    "X_train_2 = X_train_2.reshape(X_train_2.shape[0], IMAGE_SIZE,IMAGE_SIZE,1)\n",
    "X_train_2 = X_train_2.astype('float32')\n",
    "X_test_2=X_test_2.reshape(X_test_2.shape[0], IMAGE_SIZE,IMAGE_SIZE,1)\n",
    "X_test_2 = X_test_2.astype('float32')"
   ]
  },
  {
   "cell_type": "code",
   "execution_count": 14,
   "metadata": {},
   "outputs": [
    {
     "name": "stdout",
     "output_type": "stream",
     "text": [
      "Train on 2100 samples, validate on 900 samples\n",
      "Epoch 1/5\n",
      "2100/2100 [==============================] - 35s 17ms/step - loss: 1.2162 - acc: 0.5119 - val_loss: 0.6698 - val_acc: 0.7311\n",
      "Epoch 2/5\n",
      "2100/2100 [==============================] - 35s 17ms/step - loss: 0.5181 - acc: 0.8010 - val_loss: 0.4070 - val_acc: 0.8456\n",
      "Epoch 3/5\n",
      "2100/2100 [==============================] - 36s 17ms/step - loss: 0.2267 - acc: 0.9243 - val_loss: 0.3265 - val_acc: 0.8922\n",
      "Epoch 4/5\n",
      "2100/2100 [==============================] - 35s 17ms/step - loss: 0.1037 - acc: 0.9638 - val_loss: 0.2999 - val_acc: 0.9100\n",
      "Epoch 5/5\n",
      "2100/2100 [==============================] - 35s 17ms/step - loss: 0.0627 - acc: 0.9800 - val_loss: 0.2403 - val_acc: 0.9278\n"
     ]
    },
    {
     "data": {
      "text/plain": [
       "<keras.callbacks.History at 0xb254a0d68>"
      ]
     },
     "execution_count": 14,
     "metadata": {},
     "output_type": "execute_result"
    }
   ],
   "source": [
    "#create model\n",
    "model3 = Sequential()\n",
    "#add model layers\n",
    "model3.add(Convolution2D(16, kernel_size=5, activation='relu'))\n",
    "model3.add(MaxPooling2D(pool_size=2,strides=2,padding='valid'))\n",
    "model3.add(Dropout(0.25))\n",
    "model3.add(Flatten())\n",
    "model3.add(Dense(1024, activation='relu'))\n",
    "model3.add(Dropout(0.5))\n",
    "model3.add(Dense(1024, activation='relu'))\n",
    "model3.add(Dropout(0.5))\n",
    "model3.add(Dense(3, activation='softmax'))\n",
    "\n",
    "model3.compile(optimizer='adam', loss='categorical_crossentropy', metrics=['accuracy'])\n",
    "\n",
    "model3.fit(X_train_2, Y_train_2, epochs=5, batch_size=32,validation_split=0.3)\n"
   ]
  },
  {
   "cell_type": "code",
   "execution_count": 15,
   "metadata": {},
   "outputs": [
    {
     "name": "stdout",
     "output_type": "stream",
     "text": [
      "300/300 [==============================] - 1s 4ms/step\n"
     ]
    }
   ],
   "source": [
    "score3 = model3.evaluate(X_test_2, Y_test_2)"
   ]
  },
  {
   "cell_type": "code",
   "execution_count": 16,
   "metadata": {},
   "outputs": [
    {
     "name": "stdout",
     "output_type": "stream",
     "text": [
      "Test loss: 0.1978840398788452\n",
      "Test accuracy: 0.9366666674613953\n"
     ]
    }
   ],
   "source": [
    "print('Test loss:', score3[0])\n",
    "print('Test accuracy:', score3[1])"
   ]
  },
  {
   "cell_type": "markdown",
   "metadata": {},
   "source": [
    "# 6. A Regression Problem\n",
    "The task now is to predict the image locations of the vertices of a triangle, given an image of this triangle. "
   ]
  },
  {
   "cell_type": "code",
   "execution_count": 67,
   "metadata": {
    "scrolled": true
   },
   "outputs": [
    {
     "name": "stdout",
     "output_type": "stream",
     "text": [
      "Creating data:\n",
      "0\n",
      "10\n",
      "20\n",
      "30\n",
      "40\n",
      "50\n",
      "60\n",
      "70\n",
      "80\n",
      "90\n",
      "100\n",
      "110\n",
      "120\n",
      "130\n",
      "140\n",
      "150\n",
      "160\n",
      "170\n",
      "180\n",
      "190\n",
      "200\n",
      "210\n",
      "220\n",
      "230\n",
      "240\n",
      "250\n",
      "260\n",
      "270\n",
      "280\n",
      "290\n"
     ]
    }
   ],
   "source": [
    "[X_train_3, Y_train_3] = generate_dataset_regression(300, 20)"
   ]
  },
  {
   "cell_type": "code",
   "execution_count": 68,
   "metadata": {
    "scrolled": true
   },
   "outputs": [
    {
     "data": {
      "image/png": "[encoded data removed]",
      "text/plain": [
       "<Figure size 360x360 with 1 Axes>"
      ]
     },
     "metadata": {},
     "output_type": "display_data"
    }
   ],
   "source": [
    "visualize_prediction(X_train_3[0], Y_train_3[0])"
   ]
  },
  {
   "cell_type": "code",
   "execution_count": 69,
   "metadata": {
    "scrolled": true
   },
   "outputs": [
    {
     "name": "stdout",
     "output_type": "stream",
     "text": [
      "Creating data:\n",
      "0\n",
      "10\n",
      "20\n",
      "30\n",
      "40\n",
      "50\n",
      "60\n",
      "70\n",
      "80\n",
      "90\n",
      "100\n",
      "110\n",
      "120\n",
      "130\n",
      "140\n",
      "150\n",
      "160\n",
      "170\n",
      "180\n",
      "190\n",
      "200\n",
      "210\n",
      "220\n",
      "230\n",
      "240\n",
      "250\n",
      "260\n",
      "270\n",
      "280\n",
      "290\n"
     ]
    }
   ],
   "source": [
    "[X_test_3, Y_test_3] = generate_test_set_regression()"
   ]
  },
  {
   "cell_type": "code",
   "execution_count": 70,
   "metadata": {},
   "outputs": [
    {
     "data": {
      "text/plain": [
       "(300, 5184)"
      ]
     },
     "execution_count": 70,
     "metadata": {},
     "output_type": "execute_result"
    }
   ],
   "source": [
    "X_train_3.shape"
   ]
  },
  {
   "cell_type": "code",
   "execution_count": 76,
   "metadata": {},
   "outputs": [],
   "source": [
    "# define regression model\n",
    "def regression_model():\n",
    "    # create model\n",
    "    model= Sequential()\n",
    "    model.add(BatchNormalization(input_shape=(IMAGE_SIZE**2,)))\n",
    "    model.add(Reshape((IMAGE_SIZE,IMAGE_SIZE,1)))\n",
    "    model.add(Convolution2D(16, kernel_size=5, activation='relu'))\n",
    "    model.add(MaxPooling2D(pool_size=2,strides=2,padding='valid'))\n",
    "    model.add(Convolution2D(32, kernel_size=8, activation='relu'))\n",
    "    model.add(MaxPooling2D(pool_size=2,strides=2,padding='valid'))\n",
    "    model.add(Convolution2D(64, kernel_size=10, activation='relu'))\n",
    "    model.add(MaxPooling2D(pool_size=2,strides=2,padding='valid'))\n",
    "    \n",
    "    model.add(Flatten())\n",
    "    model.add(Dropout(0.2))\n",
    "    model.add(Dense(1024, activation='relu'))\n",
    "    model.add(Dropout(0.2))\n",
    "    model.add(Dense(1024, activation='relu'))\n",
    "    model.add(Dropout(0.2))\n",
    "    model.add(Dense(1024, activation='relu'))\n",
    "    model.add(Dropout(0.2))\n",
    "    model.add(Dense(6))\n",
    "    # compile model\n",
    "    model.compile(optimizer='adam', loss='mean_squared_error')\n",
    "    return model"
   ]
  },
  {
   "cell_type": "code",
   "execution_count": 77,
   "metadata": {},
   "outputs": [
    {
     "name": "stdout",
     "output_type": "stream",
     "text": [
      "Train on 210 samples, validate on 90 samples\n",
      "Epoch 1/30\n",
      "210/210 [==============================] - 4s 20ms/step - loss: 0.5791 - val_loss: 0.3005\n",
      "Epoch 2/30\n",
      "210/210 [==============================] - 2s 11ms/step - loss: 0.2830 - val_loss: 0.1618\n",
      "Epoch 3/30\n",
      "210/210 [==============================] - 2s 12ms/step - loss: 0.1338 - val_loss: 0.0861\n",
      "Epoch 4/30\n",
      "210/210 [==============================] - 2s 11ms/step - loss: 0.0873 - val_loss: 0.0853\n",
      "Epoch 5/30\n",
      "210/210 [==============================] - 2s 11ms/step - loss: 0.0841 - val_loss: 0.0838\n",
      "Epoch 6/30\n",
      "210/210 [==============================] - 2s 11ms/step - loss: 0.0836 - val_loss: 0.0786\n",
      "Epoch 7/30\n",
      "210/210 [==============================] - 2s 11ms/step - loss: 0.0820 - val_loss: 0.0818\n",
      "Epoch 8/30\n",
      "210/210 [==============================] - 3s 13ms/step - loss: 0.0806 - val_loss: 0.0763\n",
      "Epoch 9/30\n",
      "210/210 [==============================] - 3s 13ms/step - loss: 0.0789 - val_loss: 0.0770\n",
      "Epoch 10/30\n",
      "210/210 [==============================] - 2s 12ms/step - loss: 0.0771 - val_loss: 0.0740\n",
      "Epoch 11/30\n",
      "210/210 [==============================] - 2s 11ms/step - loss: 0.0756 - val_loss: 0.0713\n",
      "Epoch 12/30\n",
      "210/210 [==============================] - 2s 11ms/step - loss: 0.0718 - val_loss: 0.0691\n",
      "Epoch 13/30\n",
      "210/210 [==============================] - 2s 11ms/step - loss: 0.0700 - val_loss: 0.0871\n",
      "Epoch 14/30\n",
      "210/210 [==============================] - 2s 11ms/step - loss: 0.0738 - val_loss: 0.0826\n",
      "Epoch 15/30\n",
      "210/210 [==============================] - 3s 12ms/step - loss: 0.0670 - val_loss: 0.0688\n",
      "Epoch 16/30\n",
      "210/210 [==============================] - 2s 12ms/step - loss: 0.0657 - val_loss: 0.0751\n",
      "Epoch 17/30\n",
      "210/210 [==============================] - 3s 12ms/step - loss: 0.0652 - val_loss: 0.0662\n",
      "Epoch 18/30\n",
      "210/210 [==============================] - 3s 13ms/step - loss: 0.0607 - val_loss: 0.0743\n",
      "Epoch 19/30\n",
      "210/210 [==============================] - 3s 13ms/step - loss: 0.0601 - val_loss: 0.0703\n",
      "Epoch 20/30\n",
      "210/210 [==============================] - 3s 14ms/step - loss: 0.0604 - val_loss: 0.0668\n",
      "Epoch 21/30\n",
      "210/210 [==============================] - 3s 14ms/step - loss: 0.0607 - val_loss: 0.0702\n",
      "Epoch 22/30\n",
      "210/210 [==============================] - 3s 13ms/step - loss: 0.0587 - val_loss: 0.0687\n",
      "Epoch 23/30\n",
      "210/210 [==============================] - 3s 13ms/step - loss: 0.0581 - val_loss: 0.0719\n",
      "Epoch 24/30\n",
      "210/210 [==============================] - 2s 11ms/step - loss: 0.0571 - val_loss: 0.0718\n",
      "Epoch 25/30\n",
      "210/210 [==============================] - 3s 13ms/step - loss: 0.0550 - val_loss: 0.0776\n",
      "Epoch 26/30\n",
      "210/210 [==============================] - 3s 12ms/step - loss: 0.0535 - val_loss: 0.0725\n",
      "Epoch 27/30\n",
      "210/210 [==============================] - 3s 13ms/step - loss: 0.0529 - val_loss: 0.0726\n",
      "Epoch 28/30\n",
      "210/210 [==============================] - 4s 17ms/step - loss: 0.0506 - val_loss: 0.0757\n",
      "Epoch 29/30\n",
      "210/210 [==============================] - 3s 14ms/step - loss: 0.0483 - val_loss: 0.0768\n",
      "Epoch 30/30\n",
      "210/210 [==============================] - 3s 13ms/step - loss: 0.0471 - val_loss: 0.0749\n"
     ]
    },
    {
     "data": {
      "text/plain": [
       "<keras.callbacks.History at 0xb30439fd0>"
      ]
     },
     "execution_count": 77,
     "metadata": {},
     "output_type": "execute_result"
    }
   ],
   "source": [
    "# build the model\n",
    "model4 = regression_model()\n",
    "\n",
    "# fit the model\n",
    "model4.fit(X_train_3, Y_train_3, epochs=30, batch_size=32,validation_split=0.3)"
   ]
  },
  {
   "cell_type": "code",
   "execution_count": 78,
   "metadata": {
    "scrolled": true
   },
   "outputs": [
    {
     "name": "stdout",
     "output_type": "stream",
     "text": [
      "300/300 [==============================] - 1s 3ms/step\n"
     ]
    },
    {
     "data": {
      "text/plain": [
       "0.07155124147733052"
      ]
     },
     "execution_count": 78,
     "metadata": {},
     "output_type": "execute_result"
    }
   ],
   "source": [
    "model4.evaluate(X_test_3, Y_test_3)"
   ]
  },
  {
   "cell_type": "code",
   "execution_count": 79,
   "metadata": {},
   "outputs": [
    {
     "data": {
      "image/png": "[encoded data removed]",
      "text/plain": [
       "<Figure size 360x360 with 1 Axes>"
      ]
     },
     "metadata": {},
     "output_type": "display_data"
    },
    {
     "data": {
      "image/png": "[encoded data removed]",
      "text/plain": [
       "<Figure size 360x360 with 1 Axes>"
      ]
     },
     "metadata": {},
     "output_type": "display_data"
    }
   ],
   "source": [
    "i= 0\n",
    "visualize_prediction(X_test_3[i], model4.predict(X_test_3)[i])\n",
    "visualize_prediction(X_test_3[i], Y_test_3[i])"
   ]
  },
  {
   "cell_type": "markdown",
   "metadata": {},
   "source": [
    "# 7. Image Denoising\n",
    "Implement a hourglass network for denoising: Modifying the generate_a_* functions to generate pairs of images, where one image has noise with random amplitude, and the second image has the same content but without the noise. Train your network to predict a noise-free image given a noisy image as input."
   ]
  },
  {
   "cell_type": "code",
   "execution_count": 7,
   "metadata": {},
   "outputs": [],
   "source": [
    "def generate_a_drawing(figsize, U, V, noise=0.0):\n",
    "    fig = plt.figure(figsize=(figsize,figsize))\n",
    "    ax = plt.subplot(111)\n",
    "    plt.axis('Off')\n",
    "    ax.set_xlim(0,figsize)\n",
    "    ax.set_ylim(0,figsize)\n",
    "    ax.fill(U, V, \"k\")\n",
    "    fig.canvas.draw()\n",
    "    imdata = np.frombuffer(fig.canvas.tostring_rgb(), dtype=np.uint8)[::3].astype(np.float32)\n",
    "    imdata = imdata + noise * np.random.random(imdata.size)\n",
    "    plt.close(fig)\n",
    "    return imdata\n",
    "\n",
    "def generate_a_rectangle(noise=0.0, free_location=False):\n",
    "    figsize = 1.0    \n",
    "    U = np.zeros(4)\n",
    "    V = np.zeros(4)\n",
    "    if free_location:\n",
    "        corners = np.random.random(4)\n",
    "        top = max(corners[0], corners[1])\n",
    "        bottom = min(corners[0], corners[1])\n",
    "        left = min(corners[2], corners[3])\n",
    "        right = max(corners[2], corners[3])\n",
    "    else:\n",
    "        side = (0.3 + 0.7 * np.random.random()) * figsize\n",
    "        top = figsize/2 + side/2\n",
    "        bottom = figsize/2 - side/2\n",
    "        left = bottom\n",
    "        right = top\n",
    "    U[0] = U[1] = top\n",
    "    U[2] = U[3] = bottom\n",
    "    V[0] = V[3] = left\n",
    "    V[1] = V[2] = right\n",
    "    x = generate_a_drawing(figsize, U, V, noise)\n",
    "    y = generate_a_drawing(figsize, U, V, 0)\n",
    "    return [x, y]\n",
    "\n",
    "def generate_a_disk(noise=0.0, free_location=False):\n",
    "    figsize = 1.0\n",
    "    if free_location:\n",
    "        center = np.random.random(2)\n",
    "    else:\n",
    "        center = (figsize/2, figsize/2)\n",
    "    radius = (0.3 + 0.7 * np.random.random()) * figsize/2\n",
    "    N = 50\n",
    "    U = np.zeros(N)\n",
    "    V = np.zeros(N)\n",
    "    i = 0\n",
    "    for t in np.linspace(0, 2*np.pi, N):\n",
    "        U[i] = center[0] + np.cos(t) * radius\n",
    "        V[i] = center[1] + np.sin(t) * radius\n",
    "        i = i + 1\n",
    "    x = generate_a_drawing(figsize, U, V, noise)\n",
    "    y = generate_a_drawing(figsize, U, V, 0)\n",
    "    return [x, y]\n",
    "\n",
    "def generate_a_triangle(noise=0.0, free_location=False):\n",
    "    figsize = 1.0\n",
    "    if free_location:\n",
    "        U = np.random.random(3)\n",
    "        V = np.random.random(3)\n",
    "    else:\n",
    "        size = (0.3 + 0.7 * np.random.random())*figsize/2\n",
    "        middle = figsize/2\n",
    "        U = (middle, middle+size, middle-size)\n",
    "        V = (middle+size, middle-size, middle-size)\n",
    "    x = generate_a_drawing(figsize, U, V, noise)\n",
    "    y = generate_a_drawing(figsize, U, V, 0)\n",
    "    return [x, y]\n",
    "def generate_dataset_denoising(nb_samples, free_location=False):\n",
    "    # Getting im_size:\n",
    "    im1, im2 = generate_a_rectangle()\n",
    "    im_size = im1.shape[0]\n",
    "    X = np.zeros([nb_samples,im_size])\n",
    "    Y = np.zeros([nb_samples,im_size])\n",
    "    print('Creating data:')\n",
    "    for i in range(nb_samples):\n",
    "        if i % 10 == 0:\n",
    "            print(i, end=' ')\n",
    "        category = np.random.randint(3)\n",
    "        noise=np.random.randint(100)\n",
    "        if category == 0:\n",
    "            [X[i], Y[i]] = generate_a_rectangle(noise, free_location)\n",
    "            #Y[i] = (Y[i] + noise) / (255 + 2 * noise)\n",
    "        elif category == 1: \n",
    "            [X[i], Y[i]] = generate_a_disk(noise, free_location)\n",
    "            #Y[i] = (Y[i] + noise) / (255 + 2 * noise)\n",
    "        else:\n",
    "            [X[i], Y[i]] = generate_a_triangle(noise, free_location)\n",
    "            #Y[i] = (Y[i] + noise) / (255 + 2 * noise)\n",
    "    X = X / 255.0\n",
    "    Y = Y / 255.0\n",
    "    return [X, Y]\n",
    "def generate_test_set_denoising():\n",
    "    np.random.seed(42)\n",
    "    [X_test, Y_test] = generate_dataset_denoising(300, True)\n",
    "    return [X_test, Y_test]"
   ]
  },
  {
   "cell_type": "code",
   "execution_count": 8,
   "metadata": {},
   "outputs": [
    {
     "name": "stdout",
     "output_type": "stream",
     "text": [
      "Creating data:\n",
      "0 10 20 30 40 50 60 70 80 90 100 110 120 130 140 150 160 170 180 190 200 210 220 230 240 250 260 270 280 290 Creating data:\n",
      "0 10 20 30 40 50 60 70 80 90 100 110 120 130 140 150 160 170 180 190 200 210 220 230 240 250 260 270 280 290 "
     ]
    }
   ],
   "source": [
    "[X_train_noise, X_train_clean] = generate_dataset_denoising(300, True)\n",
    "[X_test_noise, X_test_clean] = generate_test_set_denoising()"
   ]
  },
  {
   "cell_type": "code",
   "execution_count": 9,
   "metadata": {},
   "outputs": [],
   "source": [
    "x_train_clean = X_train_clean.reshape(len(X_train_clean), IMAGE_SIZE, IMAGE_SIZE, 1)\n",
    "x_train_noise = X_train_noise.reshape(len(X_train_noise), IMAGE_SIZE, IMAGE_SIZE, 1)\n",
    "x_test_clean = X_test_clean.reshape(len(X_test_clean), IMAGE_SIZE, IMAGE_SIZE, 1)\n",
    "x_test_noise = X_test_noise.reshape(len(X_test_noise), IMAGE_SIZE, IMAGE_SIZE, 1)\n",
    "input_img = Input(shape=(IMAGE_SIZE, IMAGE_SIZE, 1))"
   ]
  },
  {
   "cell_type": "code",
   "execution_count": 12,
   "metadata": {},
   "outputs": [],
   "source": [
    "x = Conv2D(32, (3, 3), activation='relu', padding='same')(input_img)\n",
    "x = MaxPooling2D((2, 2), padding='same')(x)\n",
    "x = Conv2D(32, (3, 3), activation='relu', padding='same')(x)\n",
    "encoded = MaxPooling2D((2, 2), padding='same')(x)\n",
    "x = Conv2D(32, (3, 3), activation='relu', padding='same')(encoded)\n",
    "x = UpSampling2D((2, 2))(x)\n",
    "x = Conv2D(32, (3, 3), activation='relu', padding='same')(x)\n",
    "x = UpSampling2D((2, 2))(x)\n",
    "decoded = Conv2D(1, (3, 3), activation='sigmoid', padding='same')(x)\n",
    "autoencoder = Model(input_img, decoded)\n",
    "autoencoder.compile(optimizer='adam', loss='binary_crossentropy')"
   ]
  },
  {
   "cell_type": "code",
   "execution_count": 13,
   "metadata": {},
   "outputs": [
    {
     "name": "stdout",
     "output_type": "stream",
     "text": [
      "Train on 300 samples, validate on 300 samples\n",
      "Epoch 1/10\n",
      "300/300 [==============================] - 8s 26ms/step - loss: 0.3795 - val_loss: 0.2484\n",
      "Epoch 2/10\n",
      "300/300 [==============================] - 7s 23ms/step - loss: 0.2235 - val_loss: 0.1666\n",
      "Epoch 3/10\n",
      "300/300 [==============================] - 7s 24ms/step - loss: 0.1351 - val_loss: 0.0739\n",
      "Epoch 4/10\n",
      "300/300 [==============================] - 7s 24ms/step - loss: 0.0475 - val_loss: 0.0267\n",
      "Epoch 5/10\n",
      "300/300 [==============================] - 7s 24ms/step - loss: 0.0245 - val_loss: 0.0232\n",
      "Epoch 6/10\n",
      "300/300 [==============================] - 7s 25ms/step - loss: 0.0223 - val_loss: 0.0204\n",
      "Epoch 7/10\n",
      "300/300 [==============================] - 7s 23ms/step - loss: 0.0194 - val_loss: 0.0177\n",
      "Epoch 8/10\n",
      "300/300 [==============================] - 10s 34ms/step - loss: 0.0173 - val_loss: 0.0159\n",
      "Epoch 9/10\n",
      "300/300 [==============================] - 11s 38ms/step - loss: 0.0162 - val_loss: 0.0153\n",
      "Epoch 10/10\n",
      "300/300 [==============================] - 9s 31ms/step - loss: 0.0148 - val_loss: 0.0141\n"
     ]
    },
    {
     "data": {
      "text/plain": [
       "<keras.callbacks.History at 0xb34fe7f98>"
      ]
     },
     "execution_count": 13,
     "metadata": {},
     "output_type": "execute_result"
    }
   ],
   "source": [
    "\n",
    "autoencoder.fit(x_train_noise, x_train_clean, epochs=10, batch_size=32, shuffle=True, validation_data=(x_test_noise, x_test_clean))"
   ]
  },
  {
   "cell_type": "code",
   "execution_count": 14,
   "metadata": {},
   "outputs": [],
   "source": [
    "x_pred_noise = autoencoder.predict(x_test_noise, batch_size=32)"
   ]
  },
  {
   "cell_type": "code",
   "execution_count": 15,
   "metadata": {},
   "outputs": [],
   "source": [
    "for i in range(10):\n",
    "    j = random.randint(0,300)  "
   ]
  },
  {
   "cell_type": "code",
   "execution_count": 17,
   "metadata": {},
   "outputs": [
    {
     "data": {
      "text/plain": [
       "<matplotlib.image.AxesImage at 0xb2ce561d0>"
      ]
     },
     "execution_count": 17,
     "metadata": {},
     "output_type": "execute_result"
    },
    {
     "data": {
      "image/png": "[encoded data removed]",
      "text/plain": [
       "<Figure size 432x288 with 1 Axes>"
      ]
     },
     "metadata": {},
     "output_type": "display_data"
    }
   ],
   "source": [
    "plt.imshow(x_test_noise[j].reshape(72,72), cmap='gray')"
   ]
  },
  {
   "cell_type": "code",
   "execution_count": 18,
   "metadata": {},
   "outputs": [
    {
     "data": {
      "text/plain": [
       "<matplotlib.image.AxesImage at 0xb2cea6b70>"
      ]
     },
     "execution_count": 18,
     "metadata": {},
     "output_type": "execute_result"
    },
    {
     "data": {
      "image/png": "[encoded data removed]",
      "text/plain": [
       "<Figure size 432x288 with 1 Axes>"
      ]
     },
     "metadata": {},
     "output_type": "display_data"
    }
   ],
   "source": [
    "plt.imshow(x_test_clean[j].reshape(72,72), cmap='gray')"
   ]
  },
  {
   "cell_type": "code",
   "execution_count": 19,
   "metadata": {},
   "outputs": [
    {
     "data": {
      "text/plain": [
       "<matplotlib.image.AxesImage at 0xb2cd3a400>"
      ]
     },
     "execution_count": 19,
     "metadata": {},
     "output_type": "execute_result"
    },
    {
     "data": {
      "image/png": "[encoded data removed]",
      "text/plain": [
       "<Figure size 432x288 with 1 Axes>"
      ]
     },
     "metadata": {},
     "output_type": "display_data"
    }
   ],
   "source": [
    "plt.imshow(x_pred_noise[j].reshape(72,72), cmap='gray')"
   ]
  },
  {
   "cell_type": "code",
   "execution_count": null,
   "metadata": {},
   "outputs": [],
   "source": []
  }
 ],
 "metadata": {
  "kernelspec": {
   "display_name": "Python 3",
   "language": "python",
   "name": "python3"
  },
  "language_info": {
   "codemirror_mode": {
    "name": "ipython",
    "version": 3
   },
   "file_extension": ".py",
   "mimetype": "text/x-python",
   "name": "python",
   "nbconvert_exporter": "python",
   "pygments_lexer": "ipython3",
   "version": "3.6.5"
  }
 },
 "nbformat": 4,
 "nbformat_minor": 2
}
